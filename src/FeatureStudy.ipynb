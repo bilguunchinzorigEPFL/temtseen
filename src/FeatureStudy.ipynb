{
 "cells": [
  {
   "cell_type": "code",
   "execution_count": 4,
   "metadata": {},
   "outputs": [
    {
     "name": "stdout",
     "output_type": "stream",
     "text": [
      "The autoreload extension is already loaded. To reload it, use:\n",
      "  %reload_ext autoreload\n"
     ]
    }
   ],
   "source": [
    "%load_ext autoreload\n",
    "%autoreload 2"
   ]
  },
  {
   "cell_type": "code",
   "execution_count": 9,
   "metadata": {},
   "outputs": [],
   "source": [
    "import pandas as pd\n",
    "import featureGenerators as f\n",
    "import dataHandler as data\n",
    "import deltaRegressors as reg"
   ]
  },
  {
   "cell_type": "code",
   "execution_count": 16,
   "metadata": {},
   "outputs": [],
   "source": [
    "rf=reg.GetRegressor(\"RandomForestRegressor\")"
   ]
  },
  {
   "cell_type": "code",
   "execution_count": 18,
   "metadata": {
    "scrolled": true
   },
   "outputs": [
    {
     "name": "stderr",
     "output_type": "stream",
     "text": [
      "/home/bilguun/.local/lib/python3.6/site-packages/numpy/lib/arraysetops.py:569: FutureWarning: elementwise comparison failed; returning scalar instead, but in the future will perform elementwise comparison\n",
      "  mask |= (ar1 == a)\n"
     ]
    },
    {
     "data": {
      "text/html": [
       "<div>\n",
       "<style scoped>\n",
       "    .dataframe tbody tr th:only-of-type {\n",
       "        vertical-align: middle;\n",
       "    }\n",
       "\n",
       "    .dataframe tbody tr th {\n",
       "        vertical-align: top;\n",
       "    }\n",
       "\n",
       "    .dataframe thead th {\n",
       "        text-align: right;\n",
       "    }\n",
       "</style>\n",
       "<table border=\"1\" class=\"dataframe\">\n",
       "  <thead>\n",
       "    <tr style=\"text-align: right;\">\n",
       "      <th></th>\n",
       "      <th>RECORD_DATE</th>\n",
       "      <th>BUS_ID</th>\n",
       "      <th>BUSROUTE_ID</th>\n",
       "      <th>BUSSTOP_ID</th>\n",
       "      <th>BUSSTOP_SEQ</th>\n",
       "      <th>TIMESTAMP</th>\n",
       "    </tr>\n",
       "    <tr>\n",
       "      <th>index</th>\n",
       "      <th></th>\n",
       "      <th></th>\n",
       "      <th></th>\n",
       "      <th></th>\n",
       "      <th></th>\n",
       "      <th></th>\n",
       "    </tr>\n",
       "  </thead>\n",
       "  <tbody>\n",
       "    <tr>\n",
       "      <th>173467</th>\n",
       "      <td>2020-01-06 17:03:34</td>\n",
       "      <td>2053</td>\n",
       "      <td>11100010</td>\n",
       "      <td>380</td>\n",
       "      <td>21</td>\n",
       "      <td>1578330214</td>\n",
       "    </tr>\n",
       "    <tr>\n",
       "      <th>1624542</th>\n",
       "      <td>2020-01-13 07:28:25</td>\n",
       "      <td>2053</td>\n",
       "      <td>11100010</td>\n",
       "      <td>18</td>\n",
       "      <td>2</td>\n",
       "      <td>1578900505</td>\n",
       "    </tr>\n",
       "    <tr>\n",
       "      <th>1625151</th>\n",
       "      <td>2020-01-13 07:30:22</td>\n",
       "      <td>2053</td>\n",
       "      <td>11100010</td>\n",
       "      <td>11</td>\n",
       "      <td>3</td>\n",
       "      <td>1578900622</td>\n",
       "    </tr>\n",
       "    <tr>\n",
       "      <th>1625791</th>\n",
       "      <td>2020-01-13 07:32:25</td>\n",
       "      <td>2053</td>\n",
       "      <td>11100010</td>\n",
       "      <td>9</td>\n",
       "      <td>4</td>\n",
       "      <td>1578900745</td>\n",
       "    </tr>\n",
       "    <tr>\n",
       "      <th>1626425</th>\n",
       "      <td>2020-01-13 07:34:26</td>\n",
       "      <td>2053</td>\n",
       "      <td>11100010</td>\n",
       "      <td>6</td>\n",
       "      <td>5</td>\n",
       "      <td>1578900866</td>\n",
       "    </tr>\n",
       "  </tbody>\n",
       "</table>\n",
       "</div>"
      ],
      "text/plain": [
       "                 RECORD_DATE  BUS_ID  BUSROUTE_ID  BUSSTOP_ID  BUSSTOP_SEQ  \\\n",
       "index                                                                        \n",
       "173467   2020-01-06 17:03:34    2053     11100010         380           21   \n",
       "1624542  2020-01-13 07:28:25    2053     11100010          18            2   \n",
       "1625151  2020-01-13 07:30:22    2053     11100010          11            3   \n",
       "1625791  2020-01-13 07:32:25    2053     11100010           9            4   \n",
       "1626425  2020-01-13 07:34:26    2053     11100010           6            5   \n",
       "\n",
       "          TIMESTAMP  \n",
       "index                \n",
       "173467   1578330214  \n",
       "1624542  1578900505  \n",
       "1625151  1578900622  \n",
       "1625791  1578900745  \n",
       "1626425  1578900866  "
      ]
     },
     "execution_count": 18,
     "metadata": {},
     "output_type": "execute_result"
    }
   ],
   "source": [
    "tr_data = pd.read_csv(\"../data/main/training.csv\",index_col=0).sort_values([\"BUS_ID\",\"TIMESTAMP\"])\n",
    "tr_data.head()"
   ]
  },
  {
   "cell_type": "code",
   "execution_count": 19,
   "metadata": {},
   "outputs": [
    {
     "data": {
      "text/plain": [
       "index\n",
       "173467     570291.0\n",
       "1624542       117.0\n",
       "1625151       123.0\n",
       "1625791       121.0\n",
       "1626425       136.0\n",
       "Name: TIMESTAMP, dtype: float64"
      ]
     },
     "execution_count": 19,
     "metadata": {},
     "output_type": "execute_result"
    }
   ],
   "source": [
    "td=data.calcTimeDelta(tr_data)\n",
    "td.head()"
   ]
  },
  {
   "cell_type": "code",
   "execution_count": 14,
   "metadata": {},
   "outputs": [],
   "source": [
    "#test feature\n",
    "def calc(X):\n",
    "    return X.loc[:, ~X.columns.isin(['TIMESTAMP', 'RECORD_DATE'])]"
   ]
  },
  {
   "cell_type": "code",
   "execution_count": 20,
   "metadata": {},
   "outputs": [
    {
     "name": "stderr",
     "output_type": "stream",
     "text": [
      "/home/bilguun/.local/lib/python3.6/site-packages/sklearn/ensemble/forest.py:246: FutureWarning: The default value of n_estimators will change from 10 in version 0.20 to 100 in 0.22.\n",
      "  \"10 in version 0.20 to 100 in 0.22.\", FutureWarning)\n"
     ]
    }
   ],
   "source": [
    "features = calc(tr_data)\n",
    "rf.train(features, td)"
   ]
  },
  {
   "cell_type": "code",
   "execution_count": 21,
   "metadata": {},
   "outputs": [
    {
     "data": {
      "text/plain": [
       "array([0.57529144, 0.09633752, 0.20761899, 0.12075205])"
      ]
     },
     "execution_count": 21,
     "metadata": {},
     "output_type": "execute_result"
    }
   ],
   "source": [
    "rf.regressor.feature_importances_"
   ]
  },
  {
   "cell_type": "code",
   "execution_count": null,
   "metadata": {},
   "outputs": [],
   "source": []
  }
 ],
 "metadata": {
  "kernelspec": {
   "display_name": "Python 3",
   "language": "python",
   "name": "python3"
  },
  "language_info": {
   "codemirror_mode": {
    "name": "ipython",
    "version": 3
   },
   "file_extension": ".py",
   "mimetype": "text/x-python",
   "name": "python",
   "nbconvert_exporter": "python",
   "pygments_lexer": "ipython3",
   "version": "3.6.8"
  }
 },
 "nbformat": 4,
 "nbformat_minor": 2
}
