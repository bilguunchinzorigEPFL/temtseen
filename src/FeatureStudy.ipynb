{
 "cells": [
  {
   "cell_type": "code",
   "execution_count": 1,
   "metadata": {},
   "outputs": [],
   "source": [
    "%load_ext autoreload\n",
    "%autoreload 2"
   ]
  },
  {
   "cell_type": "code",
   "execution_count": 2,
   "metadata": {},
   "outputs": [],
   "source": [
    "import pandas as pd\n",
    "import featureGenerators as f\n",
    "import dataHandler as data\n",
    "import deltaRegressors as reg"
   ]
  },
  {
   "cell_type": "code",
   "execution_count": 3,
   "metadata": {},
   "outputs": [],
   "source": [
    "rf=reg.GetRegressor(\"RandomForestRegressor\")"
   ]
  },
  {
   "cell_type": "code",
   "execution_count": 3,
   "metadata": {
    "scrolled": true
   },
   "outputs": [
    {
     "name": "stderr",
     "output_type": "stream",
     "text": [
      "/home/bilguun/.local/lib/python3.6/site-packages/numpy/lib/arraysetops.py:569: FutureWarning: elementwise comparison failed; returning scalar instead, but in the future will perform elementwise comparison\n",
      "  mask |= (ar1 == a)\n"
     ]
    },
    {
     "data": {
      "text/html": [
       "<div>\n",
       "<style scoped>\n",
       "    .dataframe tbody tr th:only-of-type {\n",
       "        vertical-align: middle;\n",
       "    }\n",
       "\n",
       "    .dataframe tbody tr th {\n",
       "        vertical-align: top;\n",
       "    }\n",
       "\n",
       "    .dataframe thead th {\n",
       "        text-align: right;\n",
       "    }\n",
       "</style>\n",
       "<table border=\"1\" class=\"dataframe\">\n",
       "  <thead>\n",
       "    <tr style=\"text-align: right;\">\n",
       "      <th></th>\n",
       "      <th>RECORD_DATE</th>\n",
       "      <th>BUS_ID</th>\n",
       "      <th>BUSROUTE_ID</th>\n",
       "      <th>BUSSTOP_ID</th>\n",
       "      <th>BUSSTOP_SEQ</th>\n",
       "      <th>TIMESTAMP</th>\n",
       "    </tr>\n",
       "    <tr>\n",
       "      <th>index</th>\n",
       "      <th></th>\n",
       "      <th></th>\n",
       "      <th></th>\n",
       "      <th></th>\n",
       "      <th></th>\n",
       "      <th></th>\n",
       "    </tr>\n",
       "  </thead>\n",
       "  <tbody>\n",
       "    <tr>\n",
       "      <th>173467</th>\n",
       "      <td>2020-01-06 17:03:34</td>\n",
       "      <td>2053</td>\n",
       "      <td>11100010</td>\n",
       "      <td>380</td>\n",
       "      <td>21</td>\n",
       "      <td>1578330214</td>\n",
       "    </tr>\n",
       "    <tr>\n",
       "      <th>1624542</th>\n",
       "      <td>2020-01-13 07:28:25</td>\n",
       "      <td>2053</td>\n",
       "      <td>11100010</td>\n",
       "      <td>18</td>\n",
       "      <td>2</td>\n",
       "      <td>1578900505</td>\n",
       "    </tr>\n",
       "    <tr>\n",
       "      <th>1625151</th>\n",
       "      <td>2020-01-13 07:30:22</td>\n",
       "      <td>2053</td>\n",
       "      <td>11100010</td>\n",
       "      <td>11</td>\n",
       "      <td>3</td>\n",
       "      <td>1578900622</td>\n",
       "    </tr>\n",
       "    <tr>\n",
       "      <th>1625791</th>\n",
       "      <td>2020-01-13 07:32:25</td>\n",
       "      <td>2053</td>\n",
       "      <td>11100010</td>\n",
       "      <td>9</td>\n",
       "      <td>4</td>\n",
       "      <td>1578900745</td>\n",
       "    </tr>\n",
       "    <tr>\n",
       "      <th>1626425</th>\n",
       "      <td>2020-01-13 07:34:26</td>\n",
       "      <td>2053</td>\n",
       "      <td>11100010</td>\n",
       "      <td>6</td>\n",
       "      <td>5</td>\n",
       "      <td>1578900866</td>\n",
       "    </tr>\n",
       "  </tbody>\n",
       "</table>\n",
       "</div>"
      ],
      "text/plain": [
       "                 RECORD_DATE  BUS_ID  BUSROUTE_ID  BUSSTOP_ID  BUSSTOP_SEQ  \\\n",
       "index                                                                        \n",
       "173467   2020-01-06 17:03:34    2053     11100010         380           21   \n",
       "1624542  2020-01-13 07:28:25    2053     11100010          18            2   \n",
       "1625151  2020-01-13 07:30:22    2053     11100010          11            3   \n",
       "1625791  2020-01-13 07:32:25    2053     11100010           9            4   \n",
       "1626425  2020-01-13 07:34:26    2053     11100010           6            5   \n",
       "\n",
       "          TIMESTAMP  \n",
       "index                \n",
       "173467   1578330214  \n",
       "1624542  1578900505  \n",
       "1625151  1578900622  \n",
       "1625791  1578900745  \n",
       "1626425  1578900866  "
      ]
     },
     "execution_count": 3,
     "metadata": {},
     "output_type": "execute_result"
    }
   ],
   "source": [
    "tr_data = pd.read_csv(\"../data/main/training.csv\",index_col=0).sort_values([\"BUS_ID\",\"TIMESTAMP\"])\n",
    "tr_data.head()"
   ]
  },
  {
   "cell_type": "code",
   "execution_count": 4,
   "metadata": {},
   "outputs": [
    {
     "data": {
      "text/plain": [
       "index\n",
       "1624542    117.0\n",
       "1625151    123.0\n",
       "1625791    121.0\n",
       "1626425    136.0\n",
       "1627161    174.0\n",
       "Name: TIMESTAMP, dtype: float64"
      ]
     },
     "execution_count": 4,
     "metadata": {},
     "output_type": "execute_result"
    }
   ],
   "source": [
    "td=data.calcTimeDelta(tr_data)\n",
    "td.head()"
   ]
  },
  {
   "cell_type": "code",
   "execution_count": 10,
   "metadata": {},
   "outputs": [
    {
     "name": "stderr",
     "output_type": "stream",
     "text": [
      "[autoreload of deltaRegressors failed: Traceback (most recent call last):\n",
      "  File \"/home/bilguun/.local/lib/python3.6/site-packages/IPython/extensions/autoreload.py\", line 245, in check\n",
      "    superreload(m, reload, self.old_objects)\n",
      "  File \"/home/bilguun/.local/lib/python3.6/site-packages/IPython/extensions/autoreload.py\", line 450, in superreload\n",
      "    update_generic(old_obj, new_obj)\n",
      "  File \"/home/bilguun/.local/lib/python3.6/site-packages/IPython/extensions/autoreload.py\", line 387, in update_generic\n",
      "    update(a, b)\n",
      "  File \"/home/bilguun/.local/lib/python3.6/site-packages/IPython/extensions/autoreload.py\", line 357, in update_class\n",
      "    update_instances(old, new)\n",
      "  File \"/home/bilguun/.local/lib/python3.6/site-packages/IPython/extensions/autoreload.py\", line 317, in update_instances\n",
      "    update_instances(old, new, obj, visited)\n",
      "  File \"/home/bilguun/.local/lib/python3.6/site-packages/IPython/extensions/autoreload.py\", line 300, in update_instances\n",
      "    for obj in (obj for obj in objects if id(obj) not in visited):\n",
      "  File \"/home/bilguun/.local/lib/python3.6/site-packages/IPython/extensions/autoreload.py\", line 300, in <genexpr>\n",
      "    for obj in (obj for obj in objects if id(obj) not in visited):\n",
      "  File \"/home/bilguun/.local/lib/python3.6/site-packages/IPython/extensions/autoreload.py\", line 295, in <genexpr>\n",
      "    if not str(key).startswith('_')\n",
      "KeyboardInterrupt\n",
      "]\n"
     ]
    },
    {
     "data": {
      "text/plain": [
       "index\n",
       "1624542          117.0\n",
       "1625151          240.0\n",
       "1625791          361.0\n",
       "1626425          497.0\n",
       "1627161          671.0\n",
       "1628090          777.0\n",
       "1628653         1001.0\n",
       "1629874         1145.0\n",
       "1630675         1344.0\n",
       "1631768         1463.0\n",
       "1632383         1757.0\n",
       "1633977         1952.0\n",
       "1635040         2007.0\n",
       "1635362         2154.0\n",
       "1636166         2368.0\n",
       "1637354         2486.0\n",
       "1638013         2559.0\n",
       "1638414         2637.0\n",
       "1638825         2783.0\n",
       "1639611         2943.0\n",
       "1888579         3020.0\n",
       "1888971         3119.0\n",
       "1889483         3592.0\n",
       "1892099         3684.0\n",
       "1892597         3914.0\n",
       "1893899         4048.0\n",
       "1894673         4152.0\n",
       "1895247         4400.0\n",
       "1896626         4476.0\n",
       "2816644         4628.0\n",
       "              ...     \n",
       "2881172    532796520.0\n",
       "2881627    532796691.0\n",
       "2882436    532796792.0\n",
       "2882870    532796946.0\n",
       "2883573    532797135.0\n",
       "2884378    532797240.0\n",
       "2884813    532797442.0\n",
       "2885679    532797562.0\n",
       "2886176    532797641.0\n",
       "2886514    532797726.0\n",
       "2886874    532797865.0\n",
       "2887435    532798104.0\n",
       "2888387    532798296.0\n",
       "2889149    532798522.0\n",
       "2890065    532798735.0\n",
       "2890911    532798803.0\n",
       "2891172    532798892.0\n",
       "2891485    532798944.0\n",
       "2891698    532799017.0\n",
       "2891975    532799079.0\n",
       "2892206    532799142.0\n",
       "2892444    532799198.0\n",
       "2892648    532799353.0\n",
       "2893177    532799410.0\n",
       "2893394    532799526.0\n",
       "2893774    532799600.0\n",
       "2894017    532799723.0\n",
       "2894432    532799814.0\n",
       "2894723    532799896.0\n",
       "2895003    532799945.0\n",
       "Name: TIMESTAMP, Length: 3129290, dtype: float64"
      ]
     },
     "execution_count": 10,
     "metadata": {},
     "output_type": "execute_result"
    }
   ],
   "source": [
    "td.cumsum()"
   ]
  },
  {
   "cell_type": "code",
   "execution_count": 9,
   "metadata": {},
   "outputs": [
    {
     "data": {
      "image/png": "[encoded data removed]",
      "text/plain": [
       "<Figure size 432x288 with 1 Axes>"
      ]
     },
     "metadata": {
      "needs_background": "light"
     },
     "output_type": "display_data"
    }
   ],
   "source": [
    "import matplotlib.pyplot as plt\n",
    "plt.plot(list(range(1,100)),[td.quantile(i/100) for i in range(1,100)])\n",
    "plt.show()"
   ]
  },
  {
   "cell_type": "code",
   "execution_count": 15,
   "metadata": {},
   "outputs": [
    {
     "data": {
      "text/html": [
       "<div>\n",
       "<style scoped>\n",
       "    .dataframe tbody tr th:only-of-type {\n",
       "        vertical-align: middle;\n",
       "    }\n",
       "\n",
       "    .dataframe tbody tr th {\n",
       "        vertical-align: top;\n",
       "    }\n",
       "\n",
       "    .dataframe thead th {\n",
       "        text-align: right;\n",
       "    }\n",
       "</style>\n",
       "<table border=\"1\" class=\"dataframe\">\n",
       "  <thead>\n",
       "    <tr style=\"text-align: right;\">\n",
       "      <th></th>\n",
       "      <th>RECORD_DATE</th>\n",
       "      <th>BUS_ID</th>\n",
       "      <th>BUSROUTE_ID</th>\n",
       "      <th>BUSSTOP_ID</th>\n",
       "      <th>BUSSTOP_SEQ</th>\n",
       "      <th>TIMESTAMP</th>\n",
       "    </tr>\n",
       "    <tr>\n",
       "      <th>index</th>\n",
       "      <th></th>\n",
       "      <th></th>\n",
       "      <th></th>\n",
       "      <th></th>\n",
       "      <th></th>\n",
       "      <th></th>\n",
       "    </tr>\n",
       "  </thead>\n",
       "  <tbody>\n",
       "    <tr>\n",
       "      <th>173467</th>\n",
       "      <td>2020-01-06 17:03:34</td>\n",
       "      <td>2053</td>\n",
       "      <td>11100010</td>\n",
       "      <td>380</td>\n",
       "      <td>21</td>\n",
       "      <td>1578330214</td>\n",
       "    </tr>\n",
       "    <tr>\n",
       "      <th>1624542</th>\n",
       "      <td>2020-01-13 07:28:25</td>\n",
       "      <td>2053</td>\n",
       "      <td>11100010</td>\n",
       "      <td>18</td>\n",
       "      <td>2</td>\n",
       "      <td>1578900505</td>\n",
       "    </tr>\n",
       "    <tr>\n",
       "      <th>1625151</th>\n",
       "      <td>2020-01-13 07:30:22</td>\n",
       "      <td>2053</td>\n",
       "      <td>11100010</td>\n",
       "      <td>11</td>\n",
       "      <td>3</td>\n",
       "      <td>1578900622</td>\n",
       "    </tr>\n",
       "    <tr>\n",
       "      <th>1625791</th>\n",
       "      <td>2020-01-13 07:32:25</td>\n",
       "      <td>2053</td>\n",
       "      <td>11100010</td>\n",
       "      <td>9</td>\n",
       "      <td>4</td>\n",
       "      <td>1578900745</td>\n",
       "    </tr>\n",
       "    <tr>\n",
       "      <th>1626425</th>\n",
       "      <td>2020-01-13 07:34:26</td>\n",
       "      <td>2053</td>\n",
       "      <td>11100010</td>\n",
       "      <td>6</td>\n",
       "      <td>5</td>\n",
       "      <td>1578900866</td>\n",
       "    </tr>\n",
       "  </tbody>\n",
       "</table>\n",
       "</div>"
      ],
      "text/plain": [
       "                 RECORD_DATE  BUS_ID  BUSROUTE_ID  BUSSTOP_ID  BUSSTOP_SEQ  \\\n",
       "index                                                                        \n",
       "173467   2020-01-06 17:03:34    2053     11100010         380           21   \n",
       "1624542  2020-01-13 07:28:25    2053     11100010          18            2   \n",
       "1625151  2020-01-13 07:30:22    2053     11100010          11            3   \n",
       "1625791  2020-01-13 07:32:25    2053     11100010           9            4   \n",
       "1626425  2020-01-13 07:34:26    2053     11100010           6            5   \n",
       "\n",
       "          TIMESTAMP  \n",
       "index                \n",
       "173467   1578330214  \n",
       "1624542  1578900505  \n",
       "1625151  1578900622  \n",
       "1625791  1578900745  \n",
       "1626425  1578900866  "
      ]
     },
     "execution_count": 15,
     "metadata": {},
     "output_type": "execute_result"
    }
   ],
   "source": [
    "tr_data.head()"
   ]
  },
  {
   "cell_type": "code",
   "execution_count": 19,
   "metadata": {},
   "outputs": [
    {
     "data": {
      "text/html": [
       "<div>\n",
       "<style scoped>\n",
       "    .dataframe tbody tr th:only-of-type {\n",
       "        vertical-align: middle;\n",
       "    }\n",
       "\n",
       "    .dataframe tbody tr th {\n",
       "        vertical-align: top;\n",
       "    }\n",
       "\n",
       "    .dataframe thead th {\n",
       "        text-align: right;\n",
       "    }\n",
       "</style>\n",
       "<table border=\"1\" class=\"dataframe\">\n",
       "  <thead>\n",
       "    <tr style=\"text-align: right;\">\n",
       "      <th></th>\n",
       "      <th>RECORD_DATE</th>\n",
       "      <th>BUS_ID</th>\n",
       "      <th>BUSROUTE_ID</th>\n",
       "      <th>BUSSTOP_ID</th>\n",
       "      <th>BUSSTOP_SEQ</th>\n",
       "      <th>TIMESTAMP</th>\n",
       "    </tr>\n",
       "    <tr>\n",
       "      <th>index</th>\n",
       "      <th></th>\n",
       "      <th></th>\n",
       "      <th></th>\n",
       "      <th></th>\n",
       "      <th></th>\n",
       "      <th></th>\n",
       "    </tr>\n",
       "  </thead>\n",
       "  <tbody>\n",
       "    <tr>\n",
       "      <th>173467</th>\n",
       "      <td>na</td>\n",
       "      <td>na</td>\n",
       "      <td>na</td>\n",
       "      <td>na</td>\n",
       "      <td>na</td>\n",
       "      <td>na</td>\n",
       "    </tr>\n",
       "    <tr>\n",
       "      <th>1624542</th>\n",
       "      <td>2020-01-06 17:03:34</td>\n",
       "      <td>2053</td>\n",
       "      <td>1.11e+07</td>\n",
       "      <td>380</td>\n",
       "      <td>21</td>\n",
       "      <td>1.57833e+09</td>\n",
       "    </tr>\n",
       "    <tr>\n",
       "      <th>1625151</th>\n",
       "      <td>2020-01-13 07:28:25</td>\n",
       "      <td>2053</td>\n",
       "      <td>1.11e+07</td>\n",
       "      <td>18</td>\n",
       "      <td>2</td>\n",
       "      <td>1.5789e+09</td>\n",
       "    </tr>\n",
       "    <tr>\n",
       "      <th>1625791</th>\n",
       "      <td>2020-01-13 07:30:22</td>\n",
       "      <td>2053</td>\n",
       "      <td>1.11e+07</td>\n",
       "      <td>11</td>\n",
       "      <td>3</td>\n",
       "      <td>1.5789e+09</td>\n",
       "    </tr>\n",
       "    <tr>\n",
       "      <th>1626425</th>\n",
       "      <td>2020-01-13 07:32:25</td>\n",
       "      <td>2053</td>\n",
       "      <td>1.11e+07</td>\n",
       "      <td>9</td>\n",
       "      <td>4</td>\n",
       "      <td>1.5789e+09</td>\n",
       "    </tr>\n",
       "  </tbody>\n",
       "</table>\n",
       "</div>"
      ],
      "text/plain": [
       "                 RECORD_DATE BUS_ID BUSROUTE_ID BUSSTOP_ID BUSSTOP_SEQ  \\\n",
       "index                                                                    \n",
       "173467                    na     na          na         na          na   \n",
       "1624542  2020-01-06 17:03:34   2053    1.11e+07        380          21   \n",
       "1625151  2020-01-13 07:28:25   2053    1.11e+07         18           2   \n",
       "1625791  2020-01-13 07:30:22   2053    1.11e+07         11           3   \n",
       "1626425  2020-01-13 07:32:25   2053    1.11e+07          9           4   \n",
       "\n",
       "           TIMESTAMP  \n",
       "index                 \n",
       "173467            na  \n",
       "1624542  1.57833e+09  \n",
       "1625151   1.5789e+09  \n",
       "1625791   1.5789e+09  \n",
       "1626425   1.5789e+09  "
      ]
     },
     "execution_count": 19,
     "metadata": {},
     "output_type": "execute_result"
    }
   ],
   "source": [
    "tr_data.shift(1).head().fillna(\"na\")"
   ]
  },
  {
   "cell_type": "code",
   "execution_count": 6,
   "metadata": {},
   "outputs": [],
   "source": [
    "#test feature\n",
    "def calc(X):\n",
    "    d = X.loc[:, ~X.columns.isin(['TIMESTAMP', 'RECORD_DATE'])]\n",
    "    for col in d.columns:\n",
    "        d[col] = d[col].astype(str)\n",
    "    return d \n",
    "def dest(X):\n",
    "    d = X.loc[:, ~X.columns.isin(['TIMESTAMP', 'RECORD_DATE'])]\n",
    "    for col in d.columns:\n",
    "        d[col] = d[col].astype(str)\n",
    "    return d "
   ]
  },
  {
   "cell_type": "code",
   "execution_count": 7,
   "metadata": {},
   "outputs": [
    {
     "name": "stderr",
     "output_type": "stream",
     "text": [
      "/home/bilguun/.local/lib/python3.6/site-packages/ipykernel_launcher.py:5: SettingWithCopyWarning: \n",
      "A value is trying to be set on a copy of a slice from a DataFrame.\n",
      "Try using .loc[row_indexer,col_indexer] = value instead\n",
      "\n",
      "See the caveats in the documentation: http://pandas.pydata.org/pandas-docs/stable/indexing.html#indexing-view-versus-copy\n",
      "  \"\"\"\n",
      "/home/bilguun/.local/lib/python3.6/site-packages/sklearn/ensemble/forest.py:246: FutureWarning: The default value of n_estimators will change from 10 in version 0.20 to 100 in 0.22.\n",
      "  \"10 in version 0.20 to 100 in 0.22.\", FutureWarning)\n"
     ]
    }
   ],
   "source": [
    "features = calc(tr_data)\n",
    "rf.train(features, td)"
   ]
  },
  {
   "cell_type": "code",
   "execution_count": 8,
   "metadata": {},
   "outputs": [
    {
     "data": {
      "text/plain": [
       "array([0.60372327, 0.07554393, 0.19772372, 0.12300907])"
      ]
     },
     "execution_count": 8,
     "metadata": {},
     "output_type": "execute_result"
    }
   ],
   "source": [
    "rf.regressor.feature_importances_"
   ]
  },
  {
   "cell_type": "code",
   "execution_count": null,
   "metadata": {},
   "outputs": [],
   "source": []
  }
 ],
 "metadata": {
  "kernelspec": {
   "display_name": "Python 3",
   "language": "python",
   "name": "python3"
  },
  "language_info": {
   "codemirror_mode": {
    "name": "ipython",
    "version": 3
   },
   "file_extension": ".py",
   "mimetype": "text/x-python",
   "name": "python",
   "nbconvert_exporter": "python",
   "pygments_lexer": "ipython3",
   "version": "3.6.8"
  }
 },
 "nbformat": 4,
 "nbformat_minor": 2
}
