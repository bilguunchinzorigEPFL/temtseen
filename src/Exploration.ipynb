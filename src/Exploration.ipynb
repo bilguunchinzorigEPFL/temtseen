{
 "cells": [
  {
   "cell_type": "code",
   "execution_count": 1,
   "metadata": {},
   "outputs": [],
   "source": [
    "import pandas as pd\n",
    "import os\n",
    "import numpy as np\n",
    "import matplotlib.pyplot as plt\n",
    "\n",
    "import dataHandler as data\n",
    "from featureGenerators import *\n",
    "\n",
    "data.dataName=\"full\"\n",
    "featureGroups = [GetFeatureGroup(fg) for fg in GetAllFeatureGroupNames()]"
   ]
  },
  {
   "cell_type": "code",
   "execution_count": 2,
   "metadata": {},
   "outputs": [
    {
     "name": "stderr",
     "output_type": "stream",
     "text": [
      "/home/bilguun/.local/lib/python3.6/site-packages/numpy/lib/arraysetops.py:569: FutureWarning: elementwise comparison failed; returning scalar instead, but in the future will perform elementwise comparison\n",
      "  mask |= (ar1 == a)\n"
     ]
    }
   ],
   "source": [
    "tr=pd.read_csv(\"../data/full/train.csv\",index_col=0)\n",
    "ev=pd.read_csv(\"../data/full/eval.csv\",index_col=0)"
   ]
  },
  {
   "cell_type": "code",
   "execution_count": 7,
   "metadata": {},
   "outputs": [
    {
     "data": {
      "text/plain": [
       "count    2.503426e+06\n",
       "mean     1.702558e+02\n",
       "std      1.750826e+02\n",
       "min      3.000000e+00\n",
       "25%      8.300000e+01\n",
       "50%      1.210000e+02\n",
       "75%      1.920000e+02\n",
       "max      3.596000e+03\n",
       "Name: TIMESTAMP, dtype: float64"
      ]
     },
     "execution_count": 7,
     "metadata": {},
     "output_type": "execute_result"
    }
   ],
   "source": [
    "trDiffs=data.calcTimeDelta(tr)\n",
    "trDiffs.describe()"
   ]
  },
  {
   "cell_type": "code",
   "execution_count": 8,
   "metadata": {},
   "outputs": [
    {
     "name": "stdout",
     "output_type": "stream",
     "text": [
      "Loading features from: ../features/full/Base/train\n",
      "Loading features from: ../features/full/Destination/train\n"
     ]
    }
   ],
   "source": [
    "trX=pd.concat([fg.getFeatures(\"train\") for fg in featureGroups], axis=1)\n",
    "trX=trX.loc[trDiffs.index]"
   ]
  },
  {
   "cell_type": "code",
   "execution_count": 10,
   "metadata": {},
   "outputs": [],
   "source": [
    "def getkeys(X):\n",
    "    columns = [\"BUSROUTE_ID\", \"BUSSTOP_ID\", \"DEST_BUSSTOP_ID\"]\n",
    "    keys = X[columns[0]].astype(str)\n",
    "    for col in columns[1:]:\n",
    "        keys += \"-\" + X[col].astype(str)\n",
    "    return keys\n",
    "tmp = pd.concat([getkeys(trX), trDiffs], axis=1)\n",
    "tmp.columns = [\"feature\", \"time\"]"
   ]
  },
  {
   "cell_type": "code",
   "execution_count": 43,
   "metadata": {},
   "outputs": [],
   "source": [
    "means = tmp.groupby(\"feature\").mean()[\"time\"]\n",
    "medians = tmp.groupby(\"feature\").median()[\"time\"]\n",
    "stds = tmp.groupby(\"feature\").std()[\"time\"]\n",
    "count = tmp.groupby(\"feature\").count()[\"time\"]\n",
    "mins = tmp.groupby(\"feature\").min()[\"time\"]\n",
    "maxs = tmp.groupby(\"feature\").max()[\"time\"]\n",
    "\n",
    "stats = pd.concat([means,medians,stds,count,mins,maxs],axis=1)\n",
    "stats.columns=[\"mean\",\"median\",\"std\",\"count\",\"min\",\"max\"]"
   ]
  },
  {
   "cell_type": "code",
   "execution_count": 15,
   "metadata": {},
   "outputs": [
    {
     "data": {
      "text/plain": [
       "<matplotlib.axes._subplots.AxesSubplot at 0x7efecf551b70>"
      ]
     },
     "execution_count": 15,
     "metadata": {},
     "output_type": "execute_result"
    },
    {
     "data": {
      "image/png": "[encoded data removed]",
      "text/plain": [
       "<Figure size 432x288 with 1 Axes>"
      ]
     },
     "metadata": {
      "needs_background": "light"
     },
     "output_type": "display_data"
    }
   ],
   "source": [
    "stats.fillna(0).sort_values([\"std\"])[\"mean\"].plot()\n",
    "stats.fillna(0).sort_values([\"std\"])[\"std\"].plot()"
   ]
  },
  {
   "cell_type": "code",
   "execution_count": 20,
   "metadata": {},
   "outputs": [],
   "source": [
    "error95=stats[[\"std\",\"count\"]].dropna()\n",
    "error95[\"err\"]=1.95*error95[\"std\"]/np.sqrt(error95[\"count\"])"
   ]
  },
  {
   "cell_type": "code",
   "execution_count": 24,
   "metadata": {},
   "outputs": [
    {
     "data": {
      "text/plain": [
       "count    4992.000000\n",
       "mean       51.721655\n",
       "std       154.565538\n",
       "min         0.000000\n",
       "25%         2.872799\n",
       "50%         6.863986\n",
       "75%        22.448798\n",
       "max      2609.100000\n",
       "Name: err, dtype: float64"
      ]
     },
     "execution_count": 24,
     "metadata": {},
     "output_type": "execute_result"
    }
   ],
   "source": [
    "error95[\"err\"].describe()"
   ]
  },
  {
   "cell_type": "code",
   "execution_count": 38,
   "metadata": {},
   "outputs": [
    {
     "data": {
      "text/html": [
       "<div>\n",
       "<style scoped>\n",
       "    .dataframe tbody tr th:only-of-type {\n",
       "        vertical-align: middle;\n",
       "    }\n",
       "\n",
       "    .dataframe tbody tr th {\n",
       "        vertical-align: top;\n",
       "    }\n",
       "\n",
       "    .dataframe thead th {\n",
       "        text-align: right;\n",
       "    }\n",
       "</style>\n",
       "<table border=\"1\" class=\"dataframe\">\n",
       "  <thead>\n",
       "    <tr style=\"text-align: right;\">\n",
       "      <th></th>\n",
       "      <th>std</th>\n",
       "      <th>count</th>\n",
       "      <th>err</th>\n",
       "    </tr>\n",
       "  </thead>\n",
       "  <tbody>\n",
       "    <tr>\n",
       "      <th>count</th>\n",
       "      <td>4286.000000</td>\n",
       "      <td>4286.000000</td>\n",
       "      <td>4286.000000</td>\n",
       "    </tr>\n",
       "    <tr>\n",
       "      <th>mean</th>\n",
       "      <td>72.551552</td>\n",
       "      <td>582.880775</td>\n",
       "      <td>10.600572</td>\n",
       "    </tr>\n",
       "    <tr>\n",
       "      <th>std</th>\n",
       "      <td>74.669450</td>\n",
       "      <td>371.510648</td>\n",
       "      <td>13.519004</td>\n",
       "    </tr>\n",
       "    <tr>\n",
       "      <th>min</th>\n",
       "      <td>0.000000</td>\n",
       "      <td>2.000000</td>\n",
       "      <td>0.000000</td>\n",
       "    </tr>\n",
       "    <tr>\n",
       "      <th>25%</th>\n",
       "      <td>24.684563</td>\n",
       "      <td>250.000000</td>\n",
       "      <td>2.516817</td>\n",
       "    </tr>\n",
       "    <tr>\n",
       "      <th>50%</th>\n",
       "      <td>47.406045</td>\n",
       "      <td>646.000000</td>\n",
       "      <td>5.393921</td>\n",
       "    </tr>\n",
       "    <tr>\n",
       "      <th>75%</th>\n",
       "      <td>95.716064</td>\n",
       "      <td>854.000000</td>\n",
       "      <td>11.858599</td>\n",
       "    </tr>\n",
       "    <tr>\n",
       "      <th>max</th>\n",
       "      <td>818.404946</td>\n",
       "      <td>1516.000000</td>\n",
       "      <td>69.619825</td>\n",
       "    </tr>\n",
       "  </tbody>\n",
       "</table>\n",
       "</div>"
      ],
      "text/plain": [
       "               std        count          err\n",
       "count  4286.000000  4286.000000  4286.000000\n",
       "mean     72.551552   582.880775    10.600572\n",
       "std      74.669450   371.510648    13.519004\n",
       "min       0.000000     2.000000     0.000000\n",
       "25%      24.684563   250.000000     2.516817\n",
       "50%      47.406045   646.000000     5.393921\n",
       "75%      95.716064   854.000000    11.858599\n",
       "max     818.404946  1516.000000    69.619825"
      ]
     },
     "execution_count": 38,
     "metadata": {},
     "output_type": "execute_result"
    }
   ],
   "source": [
    "error95[error95[\"err\"]<=70].describe()"
   ]
  },
  {
   "cell_type": "code",
   "execution_count": 44,
   "metadata": {},
   "outputs": [],
   "source": [
    "tricky=stats.loc[error95[error95[\"err\"]>70].index]"
   ]
  },
  {
   "cell_type": "code",
   "execution_count": 57,
   "metadata": {},
   "outputs": [
    {
     "data": {
      "text/html": [
       "<div>\n",
       "<style scoped>\n",
       "    .dataframe tbody tr th:only-of-type {\n",
       "        vertical-align: middle;\n",
       "    }\n",
       "\n",
       "    .dataframe tbody tr th {\n",
       "        vertical-align: top;\n",
       "    }\n",
       "\n",
       "    .dataframe thead th {\n",
       "        text-align: right;\n",
       "    }\n",
       "</style>\n",
       "<table border=\"1\" class=\"dataframe\">\n",
       "  <thead>\n",
       "    <tr style=\"text-align: right;\">\n",
       "      <th></th>\n",
       "      <th>mean</th>\n",
       "      <th>median</th>\n",
       "      <th>std</th>\n",
       "      <th>count</th>\n",
       "      <th>min</th>\n",
       "      <th>max</th>\n",
       "    </tr>\n",
       "    <tr>\n",
       "      <th>feature</th>\n",
       "      <th></th>\n",
       "      <th></th>\n",
       "      <th></th>\n",
       "      <th></th>\n",
       "      <th></th>\n",
       "      <th></th>\n",
       "    </tr>\n",
       "  </thead>\n",
       "  <tbody>\n",
       "    <tr>\n",
       "      <th>11100570-52-48.0</th>\n",
       "      <td>919.500000</td>\n",
       "      <td>919.5</td>\n",
       "      <td>338.704148</td>\n",
       "      <td>2</td>\n",
       "      <td>680.0</td>\n",
       "      <td>1159.0</td>\n",
       "    </tr>\n",
       "    <tr>\n",
       "      <th>11100520-259-283.0</th>\n",
       "      <td>666.500000</td>\n",
       "      <td>666.5</td>\n",
       "      <td>116.672619</td>\n",
       "      <td>2</td>\n",
       "      <td>584.0</td>\n",
       "      <td>749.0</td>\n",
       "    </tr>\n",
       "    <tr>\n",
       "      <th>11100270-251-250.0</th>\n",
       "      <td>1781.500000</td>\n",
       "      <td>1781.5</td>\n",
       "      <td>211.424928</td>\n",
       "      <td>2</td>\n",
       "      <td>1632.0</td>\n",
       "      <td>1931.0</td>\n",
       "    </tr>\n",
       "    <tr>\n",
       "      <th>11100520-282-177.0</th>\n",
       "      <td>1065.000000</td>\n",
       "      <td>1065.0</td>\n",
       "      <td>337.997041</td>\n",
       "      <td>2</td>\n",
       "      <td>826.0</td>\n",
       "      <td>1304.0</td>\n",
       "    </tr>\n",
       "    <tr>\n",
       "      <th>11100520-551-1426.0</th>\n",
       "      <td>1143.000000</td>\n",
       "      <td>1143.0</td>\n",
       "      <td>794.788022</td>\n",
       "      <td>2</td>\n",
       "      <td>581.0</td>\n",
       "      <td>1705.0</td>\n",
       "    </tr>\n",
       "    <tr>\n",
       "      <th>11100270-246-1443.0</th>\n",
       "      <td>447.500000</td>\n",
       "      <td>447.5</td>\n",
       "      <td>492.853426</td>\n",
       "      <td>2</td>\n",
       "      <td>99.0</td>\n",
       "      <td>796.0</td>\n",
       "    </tr>\n",
       "    <tr>\n",
       "      <th>11100270-189-250.0</th>\n",
       "      <td>1650.500000</td>\n",
       "      <td>1650.5</td>\n",
       "      <td>316.076731</td>\n",
       "      <td>2</td>\n",
       "      <td>1427.0</td>\n",
       "      <td>1874.0</td>\n",
       "    </tr>\n",
       "    <tr>\n",
       "      <th>11100270-189-1225.0</th>\n",
       "      <td>960.000000</td>\n",
       "      <td>960.0</td>\n",
       "      <td>140.007143</td>\n",
       "      <td>2</td>\n",
       "      <td>861.0</td>\n",
       "      <td>1059.0</td>\n",
       "    </tr>\n",
       "    <tr>\n",
       "      <th>11100270-178-250.0</th>\n",
       "      <td>1351.500000</td>\n",
       "      <td>1351.5</td>\n",
       "      <td>627.203715</td>\n",
       "      <td>2</td>\n",
       "      <td>908.0</td>\n",
       "      <td>1795.0</td>\n",
       "    </tr>\n",
       "    <tr>\n",
       "      <th>11100270-802-793.0</th>\n",
       "      <td>283.500000</td>\n",
       "      <td>283.5</td>\n",
       "      <td>109.601551</td>\n",
       "      <td>2</td>\n",
       "      <td>206.0</td>\n",
       "      <td>361.0</td>\n",
       "    </tr>\n",
       "    <tr>\n",
       "      <th>11100530-288-1337.0</th>\n",
       "      <td>874.000000</td>\n",
       "      <td>874.0</td>\n",
       "      <td>357.796031</td>\n",
       "      <td>2</td>\n",
       "      <td>621.0</td>\n",
       "      <td>1127.0</td>\n",
       "    </tr>\n",
       "    <tr>\n",
       "      <th>11100270-1225-250.0</th>\n",
       "      <td>661.500000</td>\n",
       "      <td>661.5</td>\n",
       "      <td>314.662518</td>\n",
       "      <td>2</td>\n",
       "      <td>439.0</td>\n",
       "      <td>884.0</td>\n",
       "    </tr>\n",
       "    <tr>\n",
       "      <th>11100260-709-682.0</th>\n",
       "      <td>343.500000</td>\n",
       "      <td>343.5</td>\n",
       "      <td>122.329473</td>\n",
       "      <td>2</td>\n",
       "      <td>257.0</td>\n",
       "      <td>430.0</td>\n",
       "    </tr>\n",
       "    <tr>\n",
       "      <th>11100260-682-388.0</th>\n",
       "      <td>1091.500000</td>\n",
       "      <td>1091.5</td>\n",
       "      <td>762.968217</td>\n",
       "      <td>2</td>\n",
       "      <td>552.0</td>\n",
       "      <td>1631.0</td>\n",
       "    </tr>\n",
       "    <tr>\n",
       "      <th>11100260-387-710.0</th>\n",
       "      <td>319.500000</td>\n",
       "      <td>319.5</td>\n",
       "      <td>88.388348</td>\n",
       "      <td>2</td>\n",
       "      <td>257.0</td>\n",
       "      <td>382.0</td>\n",
       "    </tr>\n",
       "    <tr>\n",
       "      <th>11100260-378-414.0</th>\n",
       "      <td>663.000000</td>\n",
       "      <td>663.0</td>\n",
       "      <td>239.002092</td>\n",
       "      <td>2</td>\n",
       "      <td>494.0</td>\n",
       "      <td>832.0</td>\n",
       "    </tr>\n",
       "    <tr>\n",
       "      <th>11100260-1431-413.0</th>\n",
       "      <td>477.000000</td>\n",
       "      <td>477.0</td>\n",
       "      <td>83.438600</td>\n",
       "      <td>2</td>\n",
       "      <td>418.0</td>\n",
       "      <td>536.0</td>\n",
       "    </tr>\n",
       "    <tr>\n",
       "      <th>11100260-1402-378.0</th>\n",
       "      <td>227.500000</td>\n",
       "      <td>227.5</td>\n",
       "      <td>72.831998</td>\n",
       "      <td>2</td>\n",
       "      <td>176.0</td>\n",
       "      <td>279.0</td>\n",
       "    </tr>\n",
       "    <tr>\n",
       "      <th>11100540-156-168.0</th>\n",
       "      <td>448.000000</td>\n",
       "      <td>448.0</td>\n",
       "      <td>149.906638</td>\n",
       "      <td>2</td>\n",
       "      <td>342.0</td>\n",
       "      <td>554.0</td>\n",
       "    </tr>\n",
       "    <tr>\n",
       "      <th>11100540-149-167.0</th>\n",
       "      <td>703.000000</td>\n",
       "      <td>703.0</td>\n",
       "      <td>278.600072</td>\n",
       "      <td>2</td>\n",
       "      <td>506.0</td>\n",
       "      <td>900.0</td>\n",
       "    </tr>\n",
       "    <tr>\n",
       "      <th>11100520-202-177.0</th>\n",
       "      <td>816.500000</td>\n",
       "      <td>816.5</td>\n",
       "      <td>106.773124</td>\n",
       "      <td>2</td>\n",
       "      <td>741.0</td>\n",
       "      <td>892.0</td>\n",
       "    </tr>\n",
       "    <tr>\n",
       "      <th>11100520-171-164.0</th>\n",
       "      <td>507.500000</td>\n",
       "      <td>507.5</td>\n",
       "      <td>160.513239</td>\n",
       "      <td>2</td>\n",
       "      <td>394.0</td>\n",
       "      <td>621.0</td>\n",
       "    </tr>\n",
       "    <tr>\n",
       "      <th>11100520-168-283.0</th>\n",
       "      <td>1091.500000</td>\n",
       "      <td>1091.5</td>\n",
       "      <td>395.272691</td>\n",
       "      <td>2</td>\n",
       "      <td>812.0</td>\n",
       "      <td>1371.0</td>\n",
       "    </tr>\n",
       "    <tr>\n",
       "      <th>11100300-310-406.0</th>\n",
       "      <td>440.000000</td>\n",
       "      <td>440.0</td>\n",
       "      <td>77.781746</td>\n",
       "      <td>2</td>\n",
       "      <td>385.0</td>\n",
       "      <td>495.0</td>\n",
       "    </tr>\n",
       "    <tr>\n",
       "      <th>11100300-286-203.0</th>\n",
       "      <td>786.000000</td>\n",
       "      <td>786.0</td>\n",
       "      <td>500.631601</td>\n",
       "      <td>2</td>\n",
       "      <td>432.0</td>\n",
       "      <td>1140.0</td>\n",
       "    </tr>\n",
       "    <tr>\n",
       "      <th>11100510-176-287.0</th>\n",
       "      <td>1430.000000</td>\n",
       "      <td>1430.0</td>\n",
       "      <td>685.893578</td>\n",
       "      <td>2</td>\n",
       "      <td>945.0</td>\n",
       "      <td>1915.0</td>\n",
       "    </tr>\n",
       "    <tr>\n",
       "      <th>11100300-203-308.0</th>\n",
       "      <td>607.500000</td>\n",
       "      <td>607.5</td>\n",
       "      <td>357.088924</td>\n",
       "      <td>2</td>\n",
       "      <td>355.0</td>\n",
       "      <td>860.0</td>\n",
       "    </tr>\n",
       "    <tr>\n",
       "      <th>11100290-585-281.0</th>\n",
       "      <td>1988.500000</td>\n",
       "      <td>1988.5</td>\n",
       "      <td>1700.591809</td>\n",
       "      <td>2</td>\n",
       "      <td>786.0</td>\n",
       "      <td>3191.0</td>\n",
       "    </tr>\n",
       "    <tr>\n",
       "      <th>11100290-585-279.0</th>\n",
       "      <td>1929.500000</td>\n",
       "      <td>1929.5</td>\n",
       "      <td>840.749963</td>\n",
       "      <td>2</td>\n",
       "      <td>1335.0</td>\n",
       "      <td>2524.0</td>\n",
       "    </tr>\n",
       "    <tr>\n",
       "      <th>11100510-259-287.0</th>\n",
       "      <td>607.500000</td>\n",
       "      <td>607.5</td>\n",
       "      <td>105.358910</td>\n",
       "      <td>2</td>\n",
       "      <td>533.0</td>\n",
       "      <td>682.0</td>\n",
       "    </tr>\n",
       "    <tr>\n",
       "      <th>...</th>\n",
       "      <td>...</td>\n",
       "      <td>...</td>\n",
       "      <td>...</td>\n",
       "      <td>...</td>\n",
       "      <td>...</td>\n",
       "      <td>...</td>\n",
       "    </tr>\n",
       "    <tr>\n",
       "      <th>11100030-124-121.0</th>\n",
       "      <td>1036.333333</td>\n",
       "      <td>1123.0</td>\n",
       "      <td>743.165695</td>\n",
       "      <td>9</td>\n",
       "      <td>144.0</td>\n",
       "      <td>2226.0</td>\n",
       "    </tr>\n",
       "    <tr>\n",
       "      <th>11100410-401-400.0</th>\n",
       "      <td>1041.888889</td>\n",
       "      <td>903.0</td>\n",
       "      <td>489.965929</td>\n",
       "      <td>9</td>\n",
       "      <td>563.0</td>\n",
       "      <td>1806.0</td>\n",
       "    </tr>\n",
       "    <tr>\n",
       "      <th>11100100-539-538.0</th>\n",
       "      <td>1457.777778</td>\n",
       "      <td>1581.0</td>\n",
       "      <td>806.423707</td>\n",
       "      <td>9</td>\n",
       "      <td>324.0</td>\n",
       "      <td>2952.0</td>\n",
       "    </tr>\n",
       "    <tr>\n",
       "      <th>11100450-646-539.0</th>\n",
       "      <td>1202.800000</td>\n",
       "      <td>1087.5</td>\n",
       "      <td>426.142334</td>\n",
       "      <td>10</td>\n",
       "      <td>834.0</td>\n",
       "      <td>2291.0</td>\n",
       "    </tr>\n",
       "    <tr>\n",
       "      <th>11400056-380-1401.0</th>\n",
       "      <td>464.800000</td>\n",
       "      <td>477.0</td>\n",
       "      <td>221.784580</td>\n",
       "      <td>10</td>\n",
       "      <td>158.0</td>\n",
       "      <td>841.0</td>\n",
       "    </tr>\n",
       "    <tr>\n",
       "      <th>11100510-400-258.0</th>\n",
       "      <td>1566.000000</td>\n",
       "      <td>1511.0</td>\n",
       "      <td>518.539402</td>\n",
       "      <td>10</td>\n",
       "      <td>934.0</td>\n",
       "      <td>2365.0</td>\n",
       "    </tr>\n",
       "    <tr>\n",
       "      <th>11400070-845-817.0</th>\n",
       "      <td>187.100000</td>\n",
       "      <td>149.0</td>\n",
       "      <td>117.607114</td>\n",
       "      <td>10</td>\n",
       "      <td>132.0</td>\n",
       "      <td>520.0</td>\n",
       "    </tr>\n",
       "    <tr>\n",
       "      <th>11100240-1190-1300.0</th>\n",
       "      <td>264.272727</td>\n",
       "      <td>165.0</td>\n",
       "      <td>332.681857</td>\n",
       "      <td>11</td>\n",
       "      <td>126.0</td>\n",
       "      <td>1265.0</td>\n",
       "    </tr>\n",
       "    <tr>\n",
       "      <th>11400040-1135-1335.0</th>\n",
       "      <td>3450.461538</td>\n",
       "      <td>3497.0</td>\n",
       "      <td>179.637884</td>\n",
       "      <td>13</td>\n",
       "      <td>2911.0</td>\n",
       "      <td>3585.0</td>\n",
       "    </tr>\n",
       "    <tr>\n",
       "      <th>11100070-288-539.0</th>\n",
       "      <td>1593.857143</td>\n",
       "      <td>1602.5</td>\n",
       "      <td>421.290665</td>\n",
       "      <td>14</td>\n",
       "      <td>1058.0</td>\n",
       "      <td>2764.0</td>\n",
       "    </tr>\n",
       "    <tr>\n",
       "      <th>11100690-540-288.0</th>\n",
       "      <td>1409.428571</td>\n",
       "      <td>1357.5</td>\n",
       "      <td>422.487818</td>\n",
       "      <td>14</td>\n",
       "      <td>914.0</td>\n",
       "      <td>2369.0</td>\n",
       "    </tr>\n",
       "    <tr>\n",
       "      <th>11100520-1519-282.0</th>\n",
       "      <td>1140.571429</td>\n",
       "      <td>1048.5</td>\n",
       "      <td>393.633901</td>\n",
       "      <td>14</td>\n",
       "      <td>553.0</td>\n",
       "      <td>2043.0</td>\n",
       "    </tr>\n",
       "    <tr>\n",
       "      <th>11100520-176-203.0</th>\n",
       "      <td>1002.133333</td>\n",
       "      <td>999.0</td>\n",
       "      <td>413.679287</td>\n",
       "      <td>15</td>\n",
       "      <td>515.0</td>\n",
       "      <td>1958.0</td>\n",
       "    </tr>\n",
       "    <tr>\n",
       "      <th>11100070-203-539.0</th>\n",
       "      <td>1053.250000</td>\n",
       "      <td>1007.5</td>\n",
       "      <td>255.573473</td>\n",
       "      <td>16</td>\n",
       "      <td>639.0</td>\n",
       "      <td>1734.0</td>\n",
       "    </tr>\n",
       "    <tr>\n",
       "      <th>11100450-55-637.0</th>\n",
       "      <td>564.750000</td>\n",
       "      <td>372.5</td>\n",
       "      <td>365.068121</td>\n",
       "      <td>16</td>\n",
       "      <td>233.0</td>\n",
       "      <td>1513.0</td>\n",
       "    </tr>\n",
       "    <tr>\n",
       "      <th>11100070-203-1337.0</th>\n",
       "      <td>605.941176</td>\n",
       "      <td>551.0</td>\n",
       "      <td>158.032619</td>\n",
       "      <td>17</td>\n",
       "      <td>416.0</td>\n",
       "      <td>978.0</td>\n",
       "    </tr>\n",
       "    <tr>\n",
       "      <th>11100520-176-283.0</th>\n",
       "      <td>1056.235294</td>\n",
       "      <td>1010.0</td>\n",
       "      <td>306.882007</td>\n",
       "      <td>17</td>\n",
       "      <td>555.0</td>\n",
       "      <td>1921.0</td>\n",
       "    </tr>\n",
       "    <tr>\n",
       "      <th>11400056-1402-379.0</th>\n",
       "      <td>583.500000</td>\n",
       "      <td>527.5</td>\n",
       "      <td>376.444239</td>\n",
       "      <td>18</td>\n",
       "      <td>185.0</td>\n",
       "      <td>1807.0</td>\n",
       "    </tr>\n",
       "    <tr>\n",
       "      <th>11400040-1336-1136.0</th>\n",
       "      <td>3143.166667</td>\n",
       "      <td>3176.0</td>\n",
       "      <td>242.728667</td>\n",
       "      <td>18</td>\n",
       "      <td>2696.0</td>\n",
       "      <td>3583.0</td>\n",
       "    </tr>\n",
       "    <tr>\n",
       "      <th>11400040-1137-1139.0</th>\n",
       "      <td>867.473684</td>\n",
       "      <td>717.0</td>\n",
       "      <td>478.356720</td>\n",
       "      <td>19</td>\n",
       "      <td>309.0</td>\n",
       "      <td>2016.0</td>\n",
       "    </tr>\n",
       "    <tr>\n",
       "      <th>11100510-370-288.0</th>\n",
       "      <td>698.736842</td>\n",
       "      <td>518.0</td>\n",
       "      <td>475.048049</td>\n",
       "      <td>19</td>\n",
       "      <td>293.0</td>\n",
       "      <td>2161.0</td>\n",
       "    </tr>\n",
       "    <tr>\n",
       "      <th>11400040-869-474.0</th>\n",
       "      <td>591.238095</td>\n",
       "      <td>397.0</td>\n",
       "      <td>450.121195</td>\n",
       "      <td>21</td>\n",
       "      <td>355.0</td>\n",
       "      <td>1722.0</td>\n",
       "    </tr>\n",
       "    <tr>\n",
       "      <th>11400040-1139-1138.0</th>\n",
       "      <td>848.523810</td>\n",
       "      <td>856.0</td>\n",
       "      <td>375.021149</td>\n",
       "      <td>21</td>\n",
       "      <td>377.0</td>\n",
       "      <td>1407.0</td>\n",
       "    </tr>\n",
       "    <tr>\n",
       "      <th>11400040-474-901.0</th>\n",
       "      <td>539.545455</td>\n",
       "      <td>480.0</td>\n",
       "      <td>181.504225</td>\n",
       "      <td>22</td>\n",
       "      <td>355.0</td>\n",
       "      <td>1095.0</td>\n",
       "    </tr>\n",
       "    <tr>\n",
       "      <th>11100520-1519-542.0</th>\n",
       "      <td>792.181818</td>\n",
       "      <td>723.0</td>\n",
       "      <td>220.342512</td>\n",
       "      <td>22</td>\n",
       "      <td>383.0</td>\n",
       "      <td>1303.0</td>\n",
       "    </tr>\n",
       "    <tr>\n",
       "      <th>11100040-305-416.0</th>\n",
       "      <td>1438.826087</td>\n",
       "      <td>1250.0</td>\n",
       "      <td>937.609855</td>\n",
       "      <td>23</td>\n",
       "      <td>326.0</td>\n",
       "      <td>3129.0</td>\n",
       "    </tr>\n",
       "    <tr>\n",
       "      <th>11100690-540-286.0</th>\n",
       "      <td>1062.500000</td>\n",
       "      <td>1093.5</td>\n",
       "      <td>245.427932</td>\n",
       "      <td>24</td>\n",
       "      <td>674.0</td>\n",
       "      <td>1558.0</td>\n",
       "    </tr>\n",
       "    <tr>\n",
       "      <th>11100600-1260-1441.0</th>\n",
       "      <td>998.164179</td>\n",
       "      <td>881.0</td>\n",
       "      <td>408.868194</td>\n",
       "      <td>67</td>\n",
       "      <td>601.0</td>\n",
       "      <td>2463.0</td>\n",
       "    </tr>\n",
       "    <tr>\n",
       "      <th>11400031-477-872.0</th>\n",
       "      <td>312.675926</td>\n",
       "      <td>121.0</td>\n",
       "      <td>434.537327</td>\n",
       "      <td>108</td>\n",
       "      <td>41.0</td>\n",
       "      <td>3272.0</td>\n",
       "    </tr>\n",
       "    <tr>\n",
       "      <th>11100330-435-1230.0</th>\n",
       "      <td>1068.580052</td>\n",
       "      <td>913.0</td>\n",
       "      <td>812.068209</td>\n",
       "      <td>381</td>\n",
       "      <td>68.0</td>\n",
       "      <td>3201.0</td>\n",
       "    </tr>\n",
       "  </tbody>\n",
       "</table>\n",
       "<p>706 rows × 6 columns</p>\n",
       "</div>"
      ],
      "text/plain": [
       "                             mean  median          std  count     min     max\n",
       "feature                                                                      \n",
       "11100570-52-48.0       919.500000   919.5   338.704148      2   680.0  1159.0\n",
       "11100520-259-283.0     666.500000   666.5   116.672619      2   584.0   749.0\n",
       "11100270-251-250.0    1781.500000  1781.5   211.424928      2  1632.0  1931.0\n",
       "11100520-282-177.0    1065.000000  1065.0   337.997041      2   826.0  1304.0\n",
       "11100520-551-1426.0   1143.000000  1143.0   794.788022      2   581.0  1705.0\n",
       "11100270-246-1443.0    447.500000   447.5   492.853426      2    99.0   796.0\n",
       "11100270-189-250.0    1650.500000  1650.5   316.076731      2  1427.0  1874.0\n",
       "11100270-189-1225.0    960.000000   960.0   140.007143      2   861.0  1059.0\n",
       "11100270-178-250.0    1351.500000  1351.5   627.203715      2   908.0  1795.0\n",
       "11100270-802-793.0     283.500000   283.5   109.601551      2   206.0   361.0\n",
       "11100530-288-1337.0    874.000000   874.0   357.796031      2   621.0  1127.0\n",
       "11100270-1225-250.0    661.500000   661.5   314.662518      2   439.0   884.0\n",
       "11100260-709-682.0     343.500000   343.5   122.329473      2   257.0   430.0\n",
       "11100260-682-388.0    1091.500000  1091.5   762.968217      2   552.0  1631.0\n",
       "11100260-387-710.0     319.500000   319.5    88.388348      2   257.0   382.0\n",
       "11100260-378-414.0     663.000000   663.0   239.002092      2   494.0   832.0\n",
       "11100260-1431-413.0    477.000000   477.0    83.438600      2   418.0   536.0\n",
       "11100260-1402-378.0    227.500000   227.5    72.831998      2   176.0   279.0\n",
       "11100540-156-168.0     448.000000   448.0   149.906638      2   342.0   554.0\n",
       "11100540-149-167.0     703.000000   703.0   278.600072      2   506.0   900.0\n",
       "11100520-202-177.0     816.500000   816.5   106.773124      2   741.0   892.0\n",
       "11100520-171-164.0     507.500000   507.5   160.513239      2   394.0   621.0\n",
       "11100520-168-283.0    1091.500000  1091.5   395.272691      2   812.0  1371.0\n",
       "11100300-310-406.0     440.000000   440.0    77.781746      2   385.0   495.0\n",
       "11100300-286-203.0     786.000000   786.0   500.631601      2   432.0  1140.0\n",
       "11100510-176-287.0    1430.000000  1430.0   685.893578      2   945.0  1915.0\n",
       "11100300-203-308.0     607.500000   607.5   357.088924      2   355.0   860.0\n",
       "11100290-585-281.0    1988.500000  1988.5  1700.591809      2   786.0  3191.0\n",
       "11100290-585-279.0    1929.500000  1929.5   840.749963      2  1335.0  2524.0\n",
       "11100510-259-287.0     607.500000   607.5   105.358910      2   533.0   682.0\n",
       "...                           ...     ...          ...    ...     ...     ...\n",
       "11100030-124-121.0    1036.333333  1123.0   743.165695      9   144.0  2226.0\n",
       "11100410-401-400.0    1041.888889   903.0   489.965929      9   563.0  1806.0\n",
       "11100100-539-538.0    1457.777778  1581.0   806.423707      9   324.0  2952.0\n",
       "11100450-646-539.0    1202.800000  1087.5   426.142334     10   834.0  2291.0\n",
       "11400056-380-1401.0    464.800000   477.0   221.784580     10   158.0   841.0\n",
       "11100510-400-258.0    1566.000000  1511.0   518.539402     10   934.0  2365.0\n",
       "11400070-845-817.0     187.100000   149.0   117.607114     10   132.0   520.0\n",
       "11100240-1190-1300.0   264.272727   165.0   332.681857     11   126.0  1265.0\n",
       "11400040-1135-1335.0  3450.461538  3497.0   179.637884     13  2911.0  3585.0\n",
       "11100070-288-539.0    1593.857143  1602.5   421.290665     14  1058.0  2764.0\n",
       "11100690-540-288.0    1409.428571  1357.5   422.487818     14   914.0  2369.0\n",
       "11100520-1519-282.0   1140.571429  1048.5   393.633901     14   553.0  2043.0\n",
       "11100520-176-203.0    1002.133333   999.0   413.679287     15   515.0  1958.0\n",
       "11100070-203-539.0    1053.250000  1007.5   255.573473     16   639.0  1734.0\n",
       "11100450-55-637.0      564.750000   372.5   365.068121     16   233.0  1513.0\n",
       "11100070-203-1337.0    605.941176   551.0   158.032619     17   416.0   978.0\n",
       "11100520-176-283.0    1056.235294  1010.0   306.882007     17   555.0  1921.0\n",
       "11400056-1402-379.0    583.500000   527.5   376.444239     18   185.0  1807.0\n",
       "11400040-1336-1136.0  3143.166667  3176.0   242.728667     18  2696.0  3583.0\n",
       "11400040-1137-1139.0   867.473684   717.0   478.356720     19   309.0  2016.0\n",
       "11100510-370-288.0     698.736842   518.0   475.048049     19   293.0  2161.0\n",
       "11400040-869-474.0     591.238095   397.0   450.121195     21   355.0  1722.0\n",
       "11400040-1139-1138.0   848.523810   856.0   375.021149     21   377.0  1407.0\n",
       "11400040-474-901.0     539.545455   480.0   181.504225     22   355.0  1095.0\n",
       "11100520-1519-542.0    792.181818   723.0   220.342512     22   383.0  1303.0\n",
       "11100040-305-416.0    1438.826087  1250.0   937.609855     23   326.0  3129.0\n",
       "11100690-540-286.0    1062.500000  1093.5   245.427932     24   674.0  1558.0\n",
       "11100600-1260-1441.0   998.164179   881.0   408.868194     67   601.0  2463.0\n",
       "11400031-477-872.0     312.675926   121.0   434.537327    108    41.0  3272.0\n",
       "11100330-435-1230.0   1068.580052   913.0   812.068209    381    68.0  3201.0\n",
       "\n",
       "[706 rows x 6 columns]"
      ]
     },
     "execution_count": 57,
     "metadata": {},
     "output_type": "execute_result"
    }
   ],
   "source": [
    "tricky.sort_values(\"count\")"
   ]
  },
  {
   "cell_type": "code",
   "execution_count": 52,
   "metadata": {},
   "outputs": [
    {
     "data": {
      "text/html": [
       "<div>\n",
       "<style scoped>\n",
       "    .dataframe tbody tr th:only-of-type {\n",
       "        vertical-align: middle;\n",
       "    }\n",
       "\n",
       "    .dataframe tbody tr th {\n",
       "        vertical-align: top;\n",
       "    }\n",
       "\n",
       "    .dataframe thead th {\n",
       "        text-align: right;\n",
       "    }\n",
       "</style>\n",
       "<table border=\"1\" class=\"dataframe\">\n",
       "  <thead>\n",
       "    <tr style=\"text-align: right;\">\n",
       "      <th></th>\n",
       "      <th>BUSSTOP_ID</th>\n",
       "      <th>BUSSTOP_NMMN</th>\n",
       "      <th>GPS_COORDX</th>\n",
       "      <th>GPS_COORDY</th>\n",
       "    </tr>\n",
       "  </thead>\n",
       "  <tbody>\n",
       "    <tr>\n",
       "      <th>0</th>\n",
       "      <td>1</td>\n",
       "      <td>Ангилаг дэлгүүр</td>\n",
       "      <td>106.74209</td>\n",
       "      <td>47.91859</td>\n",
       "    </tr>\n",
       "    <tr>\n",
       "      <th>1</th>\n",
       "      <td>2</td>\n",
       "      <td>Орбитын шинэ эцэс</td>\n",
       "      <td>106.72354</td>\n",
       "      <td>47.93694</td>\n",
       "    </tr>\n",
       "    <tr>\n",
       "      <th>2</th>\n",
       "      <td>3</td>\n",
       "      <td>Зүүн салааны шинэ эцэс</td>\n",
       "      <td>106.82546</td>\n",
       "      <td>47.99864</td>\n",
       "    </tr>\n",
       "    <tr>\n",
       "      <th>3</th>\n",
       "      <td>4</td>\n",
       "      <td>Саппоро</td>\n",
       "      <td>106.85283</td>\n",
       "      <td>47.91256</td>\n",
       "    </tr>\n",
       "    <tr>\n",
       "      <th>4</th>\n",
       "      <td>5</td>\n",
       "      <td>Саппоро</td>\n",
       "      <td>106.85171</td>\n",
       "      <td>47.91286</td>\n",
       "    </tr>\n",
       "  </tbody>\n",
       "</table>\n",
       "</div>"
      ],
      "text/plain": [
       "   BUSSTOP_ID            BUSSTOP_NMMN  GPS_COORDX  GPS_COORDY\n",
       "0           1         Ангилаг дэлгүүр   106.74209    47.91859\n",
       "1           2       Орбитын шинэ эцэс   106.72354    47.93694\n",
       "2           3  Зүүн салааны шинэ эцэс   106.82546    47.99864\n",
       "3           4                 Саппоро   106.85283    47.91256\n",
       "4           5                 Саппоро   106.85171    47.91286"
      ]
     },
     "execution_count": 52,
     "metadata": {},
     "output_type": "execute_result"
    }
   ],
   "source": [
    "stops=pd.read_csv(\"../data/main/stops.csv\")\n",
    "stops.head()"
   ]
  },
  {
   "cell_type": "code",
   "execution_count": 59,
   "metadata": {},
   "outputs": [
    {
     "data": {
      "text/html": [
       "<div>\n",
       "<style scoped>\n",
       "    .dataframe tbody tr th:only-of-type {\n",
       "        vertical-align: middle;\n",
       "    }\n",
       "\n",
       "    .dataframe tbody tr th {\n",
       "        vertical-align: top;\n",
       "    }\n",
       "\n",
       "    .dataframe thead th {\n",
       "        text-align: right;\n",
       "    }\n",
       "</style>\n",
       "<table border=\"1\" class=\"dataframe\">\n",
       "  <thead>\n",
       "    <tr style=\"text-align: right;\">\n",
       "      <th></th>\n",
       "      <th>BUSSTOP_ID</th>\n",
       "      <th>BUSSTOP_NMMN</th>\n",
       "      <th>GPS_COORDX</th>\n",
       "      <th>GPS_COORDY</th>\n",
       "    </tr>\n",
       "  </thead>\n",
       "  <tbody>\n",
       "    <tr>\n",
       "      <th>476</th>\n",
       "      <td>477</td>\n",
       "      <td>10 ШАР БАЙР</td>\n",
       "      <td>107.24594</td>\n",
       "      <td>47.76704</td>\n",
       "    </tr>\n",
       "    <tr>\n",
       "      <th>858</th>\n",
       "      <td>872</td>\n",
       "      <td>Содон Төв</td>\n",
       "      <td>107.24850</td>\n",
       "      <td>47.76718</td>\n",
       "    </tr>\n",
       "  </tbody>\n",
       "</table>\n",
       "</div>"
      ],
      "text/plain": [
       "     BUSSTOP_ID BUSSTOP_NMMN  GPS_COORDX  GPS_COORDY\n",
       "476         477  10 ШАР БАЙР   107.24594    47.76704\n",
       "858         872    Содон Төв   107.24850    47.76718"
      ]
     },
     "execution_count": 59,
     "metadata": {},
     "output_type": "execute_result"
    }
   ],
   "source": [
    "stops[stops[\"BUSSTOP_ID\"].isin([477,872])]"
   ]
  },
  {
   "cell_type": "code",
   "execution_count": null,
   "metadata": {},
   "outputs": [],
   "source": []
  },
  {
   "cell_type": "code",
   "execution_count": 2,
   "metadata": {},
   "outputs": [
    {
     "name": "stderr",
     "output_type": "stream",
     "text": [
      "/home/bilguun/.local/lib/python3.6/site-packages/numpy/lib/arraysetops.py:569: FutureWarning: elementwise comparison failed; returning scalar instead, but in the future will perform elementwise comparison\n",
      "  mask |= (ar1 == a)\n"
     ]
    }
   ],
   "source": [
    "real=pd.read_csv(\"../data/submission/test.csv\",index_col=0)"
   ]
  },
  {
   "cell_type": "code",
   "execution_count": 8,
   "metadata": {},
   "outputs": [],
   "source": [
    "pred=pd.read_csv(\"../submission/submission1 T 2020-03-24 22:55:30.823044\",index_col=0,header=None)"
   ]
  },
  {
   "cell_type": "code",
   "execution_count": 5,
   "metadata": {},
   "outputs": [],
   "source": [
    "r=real[\"TIMESTAMP\"]"
   ]
  },
  {
   "cell_type": "code",
   "execution_count": 10,
   "metadata": {},
   "outputs": [],
   "source": [
    "pred[\"real\"]=r"
   ]
  },
  {
   "cell_type": "code",
   "execution_count": 16,
   "metadata": {},
   "outputs": [],
   "source": [
    "pred.index.name=\"index\""
   ]
  },
  {
   "cell_type": "code",
   "execution_count": 18,
   "metadata": {},
   "outputs": [],
   "source": [
    "pred.columns=[\"TIMESTAMP\",\"real\"]"
   ]
  },
  {
   "cell_type": "code",
   "execution_count": 21,
   "metadata": {},
   "outputs": [],
   "source": [
    "pred[[\"TIMESTAMP\"]].to_csv(\"../submission/submission1 T 2020-03-24 22:55:30.823044\")"
   ]
  },
  {
   "cell_type": "code",
   "execution_count": 23,
   "metadata": {},
   "outputs": [
    {
     "data": {
      "text/plain": [
       "((1557464, 2), 1557464)"
      ]
     },
     "execution_count": 23,
     "metadata": {},
     "output_type": "execute_result"
    }
   ],
   "source": [
    "pred.shape,1557464"
   ]
  },
  {
   "cell_type": "code",
   "execution_count": 2,
   "metadata": {},
   "outputs": [
    {
     "name": "stdout",
     "output_type": "stream",
     "text": [
      "routes.csv\n"
     ]
    },
    {
     "ename": "TypeError",
     "evalue": "parser_f() got an unexpected keyword argument 'columns'",
     "output_type": "error",
     "traceback": [
      "\u001b[0;31m---------------------------------------------------------------------------\u001b[0m",
      "\u001b[0;31mTypeError\u001b[0m                                 Traceback (most recent call last)",
      "\u001b[0;32m<ipython-input-2-754cbf610c89>\u001b[0m in \u001b[0;36m<module>\u001b[0;34m\u001b[0m\n\u001b[1;32m      2\u001b[0m \u001b[0;32mfor\u001b[0m \u001b[0mfile\u001b[0m \u001b[0;32min\u001b[0m \u001b[0mos\u001b[0m\u001b[0;34m.\u001b[0m\u001b[0mlistdir\u001b[0m\u001b[0;34m(\u001b[0m\u001b[0;34m\"../data/main\"\u001b[0m\u001b[0;34m)\u001b[0m\u001b[0;34m:\u001b[0m\u001b[0;34m\u001b[0m\u001b[0;34m\u001b[0m\u001b[0m\n\u001b[1;32m      3\u001b[0m     \u001b[0mprint\u001b[0m\u001b[0;34m(\u001b[0m\u001b[0mfile\u001b[0m\u001b[0;34m)\u001b[0m\u001b[0;34m\u001b[0m\u001b[0;34m\u001b[0m\u001b[0m\n\u001b[0;32m----> 4\u001b[0;31m     \u001b[0mfiles\u001b[0m\u001b[0;34m[\u001b[0m\u001b[0mfile\u001b[0m\u001b[0;34m]\u001b[0m\u001b[0;34m=\u001b[0m\u001b[0mpd\u001b[0m\u001b[0;34m.\u001b[0m\u001b[0mread_csv\u001b[0m\u001b[0;34m(\u001b[0m\u001b[0;34m\"../data/main/\"\u001b[0m\u001b[0;34m+\u001b[0m\u001b[0mfile\u001b[0m\u001b[0;34m,\u001b[0m\u001b[0mcolumns\u001b[0m\u001b[0;34m=\u001b[0m\u001b[0;34m[\u001b[0m\u001b[0;34m\"TIMESTAMP\"\u001b[0m\u001b[0;34m]\u001b[0m\u001b[0;34m)\u001b[0m\u001b[0;34m\u001b[0m\u001b[0;34m\u001b[0m\u001b[0m\n\u001b[0m",
      "\u001b[0;31mTypeError\u001b[0m: parser_f() got an unexpected keyword argument 'columns'"
     ]
    }
   ],
   "source": [
    "files={}\n",
    "for file in os.listdir(\"../data/main\"):\n",
    "    print(file)\n",
    "    files[file]=pd.read_csv(\"../data/main/\"+file,columns=[\"TIMESTAMP\"])"
   ]
  },
  {
   "cell_type": "code",
   "execution_count": 2,
   "metadata": {},
   "outputs": [
    {
     "name": "stderr",
     "output_type": "stream",
     "text": [
      "/home/bilguun/.local/lib/python3.6/site-packages/numpy/lib/arraysetops.py:569: FutureWarning: elementwise comparison failed; returning scalar instead, but in the future will perform elementwise comparison\n",
      "  mask |= (ar1 == a)\n"
     ]
    }
   ],
   "source": [
    "data=pd.read_csv(\"../data/main/training.csv\",index_col=0).sort_values([\"BUS_ID\",\"TIMESTAMP\"])"
   ]
  },
  {
   "cell_type": "code",
   "execution_count": 2,
   "metadata": {},
   "outputs": [
    {
     "name": "stderr",
     "output_type": "stream",
     "text": [
      "/home/bilguun/.local/lib/python3.6/site-packages/numpy/lib/arraysetops.py:569: FutureWarning: elementwise comparison failed; returning scalar instead, but in the future will perform elementwise comparison\n",
      "  mask |= (ar1 == a)\n"
     ]
    }
   ],
   "source": [
    "test=pd.read_csv(\"../data/main/test.csv\",index_col=0)"
   ]
  },
  {
   "cell_type": "code",
   "execution_count": 6,
   "metadata": {
    "scrolled": true
   },
   "outputs": [],
   "source": [
    "#test data prep\n",
    "s=pd.DataFrame(test[\"TIMESTAMP\"])"
   ]
  },
  {
   "cell_type": "code",
   "execution_count": 9,
   "metadata": {},
   "outputs": [],
   "source": [
    "z=pd.isnull(s[\"TIMESTAMP\"]).cumsum()"
   ]
  },
  {
   "cell_type": "code",
   "execution_count": 11,
   "metadata": {},
   "outputs": [],
   "source": [
    "s[\"nullCount\"]=z"
   ]
  },
  {
   "cell_type": "code",
   "execution_count": 16,
   "metadata": {},
   "outputs": [],
   "source": [
    "s=s.dropna()"
   ]
  },
  {
   "cell_type": "code",
   "execution_count": 19,
   "metadata": {
    "scrolled": true
   },
   "outputs": [
    {
     "name": "stderr",
     "output_type": "stream",
     "text": [
      "/home/bilguun/.local/lib/python3.6/site-packages/ipykernel_launcher.py:1: SettingWithCopyWarning: \n",
      "A value is trying to be set on a copy of a slice from a DataFrame.\n",
      "Try using .loc[row_indexer,col_indexer] = value instead\n",
      "\n",
      "See the caveats in the documentation: http://pandas.pydata.org/pandas-docs/stable/indexing.html#indexing-view-versus-copy\n",
      "  \"\"\"Entry point for launching an IPython kernel.\n"
     ]
    }
   ],
   "source": [
    "s[\"TOTALDIFF\"]=s[\"TIMESTAMP\"].diff(1)"
   ]
  },
  {
   "cell_type": "code",
   "execution_count": 21,
   "metadata": {},
   "outputs": [
    {
     "name": "stderr",
     "output_type": "stream",
     "text": [
      "/home/bilguun/.local/lib/python3.6/site-packages/ipykernel_launcher.py:1: SettingWithCopyWarning: \n",
      "A value is trying to be set on a copy of a slice from a DataFrame.\n",
      "Try using .loc[row_indexer,col_indexer] = value instead\n",
      "\n",
      "See the caveats in the documentation: http://pandas.pydata.org/pandas-docs/stable/indexing.html#indexing-view-versus-copy\n",
      "  \"\"\"Entry point for launching an IPython kernel.\n"
     ]
    }
   ],
   "source": [
    "s[\"AVERAGEDIFF\"]=s[\"TOTALDIFF\"]/s[\"nullCount\"].diff(1)"
   ]
  },
  {
   "cell_type": "code",
   "execution_count": 25,
   "metadata": {},
   "outputs": [],
   "source": [
    "s=s[~s.isin([np.nan, np.inf, -np.inf]).any(1)].dropna()"
   ]
  },
  {
   "cell_type": "code",
   "execution_count": 27,
   "metadata": {},
   "outputs": [
    {
     "data": {
      "text/html": [
       "<div>\n",
       "<style scoped>\n",
       "    .dataframe tbody tr th:only-of-type {\n",
       "        vertical-align: middle;\n",
       "    }\n",
       "\n",
       "    .dataframe tbody tr th {\n",
       "        vertical-align: top;\n",
       "    }\n",
       "\n",
       "    .dataframe thead th {\n",
       "        text-align: right;\n",
       "    }\n",
       "</style>\n",
       "<table border=\"1\" class=\"dataframe\">\n",
       "  <thead>\n",
       "    <tr style=\"text-align: right;\">\n",
       "      <th></th>\n",
       "      <th>TIMESTAMP</th>\n",
       "      <th>nullCount</th>\n",
       "      <th>TOTALDIFF</th>\n",
       "      <th>AVERAGEDIFF</th>\n",
       "    </tr>\n",
       "  </thead>\n",
       "  <tbody>\n",
       "    <tr>\n",
       "      <th>count</th>\n",
       "      <td>2.505290e+05</td>\n",
       "      <td>2.505290e+05</td>\n",
       "      <td>250529.000000</td>\n",
       "      <td>250529.000000</td>\n",
       "    </tr>\n",
       "    <tr>\n",
       "      <th>mean</th>\n",
       "      <td>1.579773e+09</td>\n",
       "      <td>6.003438e+05</td>\n",
       "      <td>991.093618</td>\n",
       "      <td>243.971847</td>\n",
       "    </tr>\n",
       "    <tr>\n",
       "      <th>std</th>\n",
       "      <td>1.656566e+05</td>\n",
       "      <td>3.458694e+05</td>\n",
       "      <td>929.918564</td>\n",
       "      <td>179.546946</td>\n",
       "    </tr>\n",
       "    <tr>\n",
       "      <th>min</th>\n",
       "      <td>1.579501e+09</td>\n",
       "      <td>1.000000e+00</td>\n",
       "      <td>54.000000</td>\n",
       "      <td>43.250000</td>\n",
       "    </tr>\n",
       "    <tr>\n",
       "      <th>25%</th>\n",
       "      <td>1.579627e+09</td>\n",
       "      <td>3.015720e+05</td>\n",
       "      <td>364.000000</td>\n",
       "      <td>137.500000</td>\n",
       "    </tr>\n",
       "    <tr>\n",
       "      <th>50%</th>\n",
       "      <td>1.579777e+09</td>\n",
       "      <td>6.028920e+05</td>\n",
       "      <td>680.000000</td>\n",
       "      <td>194.000000</td>\n",
       "    </tr>\n",
       "    <tr>\n",
       "      <th>75%</th>\n",
       "      <td>1.579892e+09</td>\n",
       "      <td>9.030370e+05</td>\n",
       "      <td>1290.000000</td>\n",
       "      <td>287.000000</td>\n",
       "    </tr>\n",
       "    <tr>\n",
       "      <th>max</th>\n",
       "      <td>1.580081e+09</td>\n",
       "      <td>1.187687e+06</td>\n",
       "      <td>12323.000000</td>\n",
       "      <td>3483.000000</td>\n",
       "    </tr>\n",
       "  </tbody>\n",
       "</table>\n",
       "</div>"
      ],
      "text/plain": [
       "          TIMESTAMP     nullCount      TOTALDIFF    AVERAGEDIFF\n",
       "count  2.505290e+05  2.505290e+05  250529.000000  250529.000000\n",
       "mean   1.579773e+09  6.003438e+05     991.093618     243.971847\n",
       "std    1.656566e+05  3.458694e+05     929.918564     179.546946\n",
       "min    1.579501e+09  1.000000e+00      54.000000      43.250000\n",
       "25%    1.579627e+09  3.015720e+05     364.000000     137.500000\n",
       "50%    1.579777e+09  6.028920e+05     680.000000     194.000000\n",
       "75%    1.579892e+09  9.030370e+05    1290.000000     287.000000\n",
       "max    1.580081e+09  1.187687e+06   12323.000000    3483.000000"
      ]
     },
     "execution_count": 27,
     "metadata": {},
     "output_type": "execute_result"
    }
   ],
   "source": [
    "s.describe()"
   ]
  },
  {
   "cell_type": "code",
   "execution_count": 62,
   "metadata": {},
   "outputs": [],
   "source": [
    "d=diffz[tr[\"BUS_ID\"].diff(-1) == 0]"
   ]
  },
  {
   "cell_type": "code",
   "execution_count": 64,
   "metadata": {},
   "outputs": [
    {
     "data": {
      "text/plain": [
       "(3262, 6)"
      ]
     },
     "execution_count": 64,
     "metadata": {},
     "output_type": "execute_result"
    }
   ],
   "source": [
    "tr.loc[d.index].shape"
   ]
  },
  {
   "cell_type": "code",
   "execution_count": 4,
   "metadata": {},
   "outputs": [
    {
     "data": {
      "text/plain": [
       "array([11100010, 11100510, 11100420, 11100690, 11100182, 11100060,\n",
       "       11100281, 11100270, 11100360, 11100450, 11100020, 11100470,\n",
       "       11100090, 11100570, 11100612, 11400060, 11100140, 11400070,\n",
       "       11100150, 11200020, 11100040, 11100290, 11100250, 11100620,\n",
       "       11100340, 11100300, 11100640, 11100550, 11100172, 11100440,\n",
       "       11400020, 11100171, 11100030, 11100202, 11400100, 11100530,\n",
       "       11100212, 11100540, 11400056, 11100280, 11100240, 11100710,\n",
       "       11400031, 11100201, 11100192, 11100050, 11100400, 11100194,\n",
       "       11100520, 11100100, 11100223, 11400010, 11100720, 11400112,\n",
       "       11400120, 11400090, 11100122, 11100600, 11400130, 11100390,\n",
       "       11100410, 11100160, 11100650, 11100330, 11100310, 11100590,\n",
       "       11100070, 11100460, 11100490, 11400040, 11100350, 11100191,\n",
       "       11100730, 11100402, 11400080, 11100130, 11100580, 11100110,\n",
       "       11100560, 11100430, 11100293, 11100320, 11100230, 11100500,\n",
       "       11100630, 11100380, 11400110, 11100211, 11100181, 11100660,\n",
       "       11100080, 11100631, 11200040, 11100700, 11100260, 11100581,\n",
       "       11200050, 11100306, 11100304, 11100241, 11100301, 11100480,\n",
       "       11100220, 11100370, 11400050, 11100680, 11100670, 11100303])"
      ]
     },
     "execution_count": 4,
     "metadata": {},
     "output_type": "execute_result"
    }
   ],
   "source": [
    "data[\"BUSROUTE_ID\"].unique()"
   ]
  },
  {
   "cell_type": "code",
   "execution_count": 7,
   "metadata": {
    "scrolled": true
   },
   "outputs": [],
   "source": [
    "tr=[]\n",
    "ev=[]\n",
    "te=[]\n",
    "for busid in data[\"BUSROUTE_ID\"].unique():\n",
    "    la=data[data[\"BUSROUTE_ID\"]==busid]\n",
    "    tr.append(la.iloc[:int(0.8*len(la))])\n",
    "    ev.append(la.iloc[int(0.8*len(la)):])\n",
    "    te.append(test[test[\"BUSROUTE_ID\"]==busid])"
   ]
  },
  {
   "cell_type": "code",
   "execution_count": 8,
   "metadata": {},
   "outputs": [],
   "source": [
    "#os.mkdir(\"../data/full\")\n",
    "pd.concat(tr).to_csv(\"../data/full/train.csv\")\n",
    "pd.concat(ev).to_csv(\"../data/full/eval.csv\")\n",
    "pd.concat(te).to_csv(\"../data/full/test.csv\")"
   ]
  },
  {
   "cell_type": "code",
   "execution_count": 6,
   "metadata": {},
   "outputs": [],
   "source": [
    "#os.mkdir(\"../data/submission\")\n",
    "data.to_csv(\"../data/submission/train.csv\")\n",
    "test.to_csv(\"../data/submission/test.csv\")"
   ]
  },
  {
   "cell_type": "code",
   "execution_count": 67,
   "metadata": {
    "scrolled": true
   },
   "outputs": [],
   "source": [
    "a=pd.Series([1,2,3,4,5],index=[1,2,3,4,5])\n",
    "b=pd.Series([1,2,3,4],index=[3,4,5,6])"
   ]
  },
  {
   "cell_type": "code",
   "execution_count": 68,
   "metadata": {},
   "outputs": [
    {
     "data": {
      "text/plain": [
       "1    NaN\n",
       "2    NaN\n",
       "3    2.0\n",
       "4    2.0\n",
       "5    2.0\n",
       "6    NaN\n",
       "dtype: float64"
      ]
     },
     "execution_count": 68,
     "metadata": {},
     "output_type": "execute_result"
    }
   ],
   "source": [
    "a-b"
   ]
  },
  {
   "cell_type": "code",
   "execution_count": 16,
   "metadata": {},
   "outputs": [
    {
     "data": {
      "text/plain": [
       "array([     2053,      2058,      2061, ..., 983516012, 983606001,\n",
       "       985606003])"
      ]
     },
     "execution_count": 16,
     "metadata": {},
     "output_type": "execute_result"
    }
   ],
   "source": [
    "data[\"BUS_ID\"].unique()"
   ]
  },
  {
   "cell_type": "code",
   "execution_count": 17,
   "metadata": {},
   "outputs": [
    {
     "name": "stdout",
     "output_type": "stream",
     "text": [
      "ARDRegression\n",
      "AdaBoostRegressor\n",
      "BaggingRegressor\n",
      "BayesianRidge\n",
      "CCA\n",
      "DecisionTreeRegressor\n",
      "ElasticNet\n",
      "ElasticNetCV\n",
      "ExtraTreeRegressor\n",
      "ExtraTreesRegressor\n",
      "GaussianProcessRegressor\n",
      "GradientBoostingRegressor\n",
      "HuberRegressor\n",
      "KNeighborsRegressor\n",
      "KernelRidge\n",
      "Lars\n",
      "LarsCV\n",
      "Lasso\n",
      "LassoCV\n",
      "LassoLars\n",
      "LassoLarsCV\n",
      "LassoLarsIC\n",
      "LinearRegression\n",
      "LinearSVR\n",
      "MLPRegressor\n",
      "MultiTaskElasticNet\n",
      "MultiTaskElasticNetCV\n",
      "MultiTaskLasso\n",
      "MultiTaskLassoCV\n",
      "NuSVR\n",
      "OrthogonalMatchingPursuit\n",
      "OrthogonalMatchingPursuitCV\n",
      "PLSCanonical\n",
      "PLSRegression\n",
      "PassiveAggressiveRegressor\n",
      "RANSACRegressor\n",
      "RadiusNeighborsRegressor\n",
      "RandomForestRegressor\n",
      "Ridge\n",
      "RidgeCV\n",
      "SGDRegressor\n",
      "SVR\n",
      "TheilSenRegressor\n",
      "TransformedTargetRegressor\n"
     ]
    }
   ],
   "source": [
    "from sklearn.utils.testing import all_estimators\n",
    "from sklearn import base\n",
    "\n",
    "estimators = all_estimators()\n",
    "\n",
    "for name, class_ in estimators:\n",
    "    if issubclass(class_, base.RegressorMixin):\n",
    "        print(name)"
   ]
  },
  {
   "cell_type": "code",
   "execution_count": 15,
   "metadata": {
    "scrolled": true
   },
   "outputs": [
    {
     "name": "stdout",
     "output_type": "stream",
     "text": [
      "Collecting pytest\n",
      "  Downloading https://files.pythonhosted.org/packages/c7/e2/c19c667f42f72716a7d03e8dd4d6f63f47d39feadd44cc1ee7ca3089862c/pytest-5.4.1-py3-none-any.whl (246kB)\n",
      "\u001b[K    100% |████████████████████████████████| 256kB 203kB/s ta 0:00:01\n",
      "\u001b[?25hCollecting more-itertools>=4.0.0 (from pytest)\n",
      "  Downloading https://files.pythonhosted.org/packages/72/96/4297306cc270eef1e3461da034a3bebe7c84eff052326b130824e98fc3fb/more_itertools-8.2.0-py3-none-any.whl (43kB)\n",
      "\u001b[K    100% |████████████████████████████████| 51kB 1.1MB/s ta 0:00:011\n",
      "\u001b[?25hCollecting wcwidth (from pytest)\n",
      "  Downloading https://files.pythonhosted.org/packages/58/b4/4850a0ccc6f567cc0ebe7060d20ffd4258b8210efadc259da62dc6ed9c65/wcwidth-0.1.8-py2.py3-none-any.whl\n",
      "Collecting packaging (from pytest)\n",
      "  Downloading https://files.pythonhosted.org/packages/62/0a/34641d2bf5c917c96db0ded85ae4da25b6cd922d6b794648d4e7e07c88e5/packaging-20.3-py2.py3-none-any.whl\n",
      "Collecting attrs>=17.4.0 (from pytest)\n",
      "  Using cached https://files.pythonhosted.org/packages/a2/db/4313ab3be961f7a763066401fb77f7748373b6094076ae2bda2806988af6/attrs-19.3.0-py2.py3-none-any.whl\n",
      "Collecting importlib-metadata>=0.12; python_version < \"3.8\" (from pytest)\n",
      "  Downloading https://files.pythonhosted.org/packages/8b/03/a00d504808808912751e64ccf414be53c29cad620e3de2421135fcae3025/importlib_metadata-1.5.0-py2.py3-none-any.whl\n",
      "Collecting py>=1.5.0 (from pytest)\n",
      "  Downloading https://files.pythonhosted.org/packages/99/8d/21e1767c009211a62a8e3067280bfce76e89c9f876180308515942304d2d/py-1.8.1-py2.py3-none-any.whl (83kB)\n",
      "\u001b[K    100% |████████████████████████████████| 92kB 1.2MB/s ta 0:00:011\n",
      "\u001b[?25hCollecting pluggy<1.0,>=0.12 (from pytest)\n",
      "  Downloading https://files.pythonhosted.org/packages/a0/28/85c7aa31b80d150b772fbe4a229487bc6644da9ccb7e427dd8cc60cb8a62/pluggy-0.13.1-py2.py3-none-any.whl\n",
      "Collecting six (from packaging->pytest)\n",
      "  Downloading https://files.pythonhosted.org/packages/65/eb/1f97cb97bfc2390a276969c6fae16075da282f5058082d4cb10c6c5c1dba/six-1.14.0-py2.py3-none-any.whl\n",
      "Collecting pyparsing>=2.0.2 (from packaging->pytest)\n",
      "  Downloading https://files.pythonhosted.org/packages/5d/bc/1e58593167fade7b544bfe9502a26dc860940a79ab306e651e7f13be68c2/pyparsing-2.4.6-py2.py3-none-any.whl (67kB)\n",
      "\u001b[K    100% |████████████████████████████████| 71kB 1.5MB/s ta 0:00:011\n",
      "\u001b[?25hCollecting zipp>=0.5 (from importlib-metadata>=0.12; python_version < \"3.8\"->pytest)\n",
      "  Downloading https://files.pythonhosted.org/packages/b2/34/bfcb43cc0ba81f527bc4f40ef41ba2ff4080e047acb0586b56b3d017ace4/zipp-3.1.0-py3-none-any.whl\n",
      "Installing collected packages: more-itertools, wcwidth, six, pyparsing, packaging, attrs, zipp, importlib-metadata, py, pluggy, pytest\n",
      "Successfully installed attrs-19.3.0 importlib-metadata-1.5.0 more-itertools-8.2.0 packaging-20.3 pluggy-0.13.1 py-1.8.1 pyparsing-2.4.6 pytest-5.4.1 six-1.14.0 wcwidth-0.1.8 zipp-3.1.0\n"
     ]
    }
   ],
   "source": [
    "!pip3 install pytest"
   ]
  },
  {
   "cell_type": "code",
   "execution_count": 20,
   "metadata": {},
   "outputs": [],
   "source": [
    "a=pd.DataFrame({\"a\":[1,2,3],\"b\":[2,3,4]})\n",
    "b=pd.DataFrame({\"a\":[1,2,3],\"b\":[2,3,4]})"
   ]
  },
  {
   "cell_type": "code",
   "execution_count": 23,
   "metadata": {},
   "outputs": [
    {
     "data": {
      "text/html": [
       "<div>\n",
       "<style scoped>\n",
       "    .dataframe tbody tr th:only-of-type {\n",
       "        vertical-align: middle;\n",
       "    }\n",
       "\n",
       "    .dataframe tbody tr th {\n",
       "        vertical-align: top;\n",
       "    }\n",
       "\n",
       "    .dataframe thead th {\n",
       "        text-align: right;\n",
       "    }\n",
       "</style>\n",
       "<table border=\"1\" class=\"dataframe\">\n",
       "  <thead>\n",
       "    <tr style=\"text-align: right;\">\n",
       "      <th></th>\n",
       "      <th>a</th>\n",
       "      <th>b</th>\n",
       "      <th>a</th>\n",
       "      <th>b</th>\n",
       "    </tr>\n",
       "  </thead>\n",
       "  <tbody>\n",
       "    <tr>\n",
       "      <th>0</th>\n",
       "      <td>1</td>\n",
       "      <td>2</td>\n",
       "      <td>1</td>\n",
       "      <td>2</td>\n",
       "    </tr>\n",
       "    <tr>\n",
       "      <th>1</th>\n",
       "      <td>2</td>\n",
       "      <td>3</td>\n",
       "      <td>2</td>\n",
       "      <td>3</td>\n",
       "    </tr>\n",
       "    <tr>\n",
       "      <th>2</th>\n",
       "      <td>3</td>\n",
       "      <td>4</td>\n",
       "      <td>3</td>\n",
       "      <td>4</td>\n",
       "    </tr>\n",
       "  </tbody>\n",
       "</table>\n",
       "</div>"
      ],
      "text/plain": [
       "   a  b  a  b\n",
       "0  1  2  1  2\n",
       "1  2  3  2  3\n",
       "2  3  4  3  4"
      ]
     },
     "execution_count": 23,
     "metadata": {},
     "output_type": "execute_result"
    }
   ],
   "source": [
    "pd.concat([a,b],axis=1)"
   ]
  },
  {
   "cell_type": "code",
   "execution_count": 72,
   "metadata": {},
   "outputs": [],
   "source": [
    "miss_val=test[\"TIMESTAMP\"].isnull()+0"
   ]
  },
  {
   "cell_type": "code",
   "execution_count": 73,
   "metadata": {},
   "outputs": [
    {
     "data": {
      "text/plain": [
       "count    1.557464e+06\n",
       "mean     7.625775e-01\n",
       "std      4.255034e-01\n",
       "min      0.000000e+00\n",
       "25%      1.000000e+00\n",
       "50%      1.000000e+00\n",
       "75%      1.000000e+00\n",
       "max      1.000000e+00\n",
       "Name: TIMESTAMP, dtype: float64"
      ]
     },
     "execution_count": 73,
     "metadata": {},
     "output_type": "execute_result"
    }
   ],
   "source": [
    "miss_val.describe()"
   ]
  },
  {
   "cell_type": "code",
   "execution_count": 84,
   "metadata": {},
   "outputs": [
    {
     "data": {
      "text/plain": [
       "array([0, 1, 0, ..., 1, 1, 0])"
      ]
     },
     "execution_count": 84,
     "metadata": {},
     "output_type": "execute_result"
    }
   ],
   "source": [
    "miss_val.values"
   ]
  },
  {
   "cell_type": "code",
   "execution_count": 95,
   "metadata": {},
   "outputs": [],
   "source": [
    "x=data[\"TIMESTAMP\"][:100]"
   ]
  },
  {
   "cell_type": "code",
   "execution_count": 93,
   "metadata": {},
   "outputs": [],
   "source": [
    "x.iloc[np.where(miss_val.values[:100])]=np.nan"
   ]
  },
  {
   "cell_type": "code",
   "execution_count": 98,
   "metadata": {},
   "outputs": [
    {
     "name": "stdout",
     "output_type": "stream",
     "text": [
      "173467 1578330214\n",
      "1624542 1578900505\n",
      "1625151 1578900622\n",
      "1625791 1578900745\n",
      "1626425 1578900866\n",
      "1627161 1578901002\n",
      "1628090 1578901176\n",
      "1628653 1578901282\n",
      "1629874 1578901506\n",
      "1630675 1578901650\n",
      "1631768 1578901849\n",
      "1632383 1578901968\n",
      "1633977 1578902262\n",
      "1635040 1578902457\n",
      "1635362 1578902512\n",
      "1636166 1578902659\n",
      "1637354 1578902873\n",
      "1638013 1578902991\n",
      "1638414 1578903064\n",
      "1638825 1578903142\n",
      "1639611 1578903288\n",
      "1640478 1578903448\n",
      "1903298 1578994153\n",
      "2135720 1579074723\n",
      "1888458 1578991454\n",
      "1888579 1578991476\n",
      "1888971 1578991553\n",
      "1889483 1578991652\n",
      "1892099 1578992125\n",
      "1892597 1578992217\n",
      "1893899 1578992447\n",
      "1894673 1578992581\n",
      "1895247 1578992685\n",
      "1896626 1578992933\n",
      "1897036 1578993009\n",
      "2816644 1579279101\n",
      "2817356 1579279253\n",
      "2818801 1579279560\n",
      "2820010 1579279832\n",
      "159011 1578326805\n",
      "159502 1578326925\n",
      "160153 1578327071\n",
      "160665 1578327195\n",
      "161461 1578327374\n",
      "162335 1578327591\n",
      "165757 1578328406\n",
      "166458 1578328579\n",
      "169182 1578329213\n",
      "169958 1578329396\n",
      "170347 1578329491\n",
      "171025 1578329651\n",
      "171607 1578329783\n",
      "171985 1578329874\n",
      "172424 1578329976\n",
      "172945 1578330092\n",
      "173539 1578330229\n",
      "174073 1578330348\n",
      "174334 1578330411\n",
      "174952 1578330547\n",
      "175764 1578330731\n",
      "176952 1578331002\n",
      "177917 1578331228\n",
      "180667 1578331852\n",
      "181361 1578332018\n",
      "183883 1578332626\n",
      "184312 1578332731\n",
      "184728 1578332838\n",
      "185577 1578333054\n",
      "186173 1578333209\n",
      "186993 1578333416\n",
      "187453 1578333528\n",
      "187752 1578333604\n",
      "188209 1578333719\n",
      "188713 1578333842\n",
      "191620 1578334637\n",
      "1634434 1578902343\n",
      "1635048 1578902459\n",
      "1635494 1578902534\n",
      "1636257 1578902674\n",
      "1637431 1578902886\n",
      "1638361 1578903054\n",
      "1638754 1578903129\n",
      "1640472 1578903446\n",
      "1640936 1578903537\n",
      "1642191 1578903772\n",
      "1642534 1578903838\n",
      "1643055 1578903938\n",
      "1644280 1578904174\n",
      "1644765 1578904264\n",
      "1645683 1578904445\n",
      "1646254 1578904553\n",
      "1646671 1578904629\n",
      "1647077 1578904709\n",
      "1647713 1578904832\n",
      "1649145 1578905107\n",
      "1650243 1578905316\n",
      "1650715 1578905407\n",
      "1651487 1578905559\n",
      "1652412 1578905744\n",
      "1653085 1578905874\n"
     ]
    }
   ],
   "source": [
    "for i, v in x.iteritems():\n",
    "    print(i,v)"
   ]
  },
  {
   "cell_type": "code",
   "execution_count": null,
   "metadata": {},
   "outputs": [],
   "source": []
  }
 ],
 "metadata": {
  "kernelspec": {
   "display_name": "Python 3",
   "language": "python",
   "name": "python3"
  },
  "language_info": {
   "codemirror_mode": {
    "name": "ipython",
    "version": 3
   },
   "file_extension": ".py",
   "mimetype": "text/x-python",
   "name": "python",
   "nbconvert_exporter": "python",
   "pygments_lexer": "ipython3",
   "version": "3.6.8"
  }
 },
 "nbformat": 4,
 "nbformat_minor": 2
}
