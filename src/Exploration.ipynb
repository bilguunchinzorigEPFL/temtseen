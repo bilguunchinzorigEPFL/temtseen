{
 "cells": [
  {
   "cell_type": "code",
   "execution_count": 1,
   "metadata": {},
   "outputs": [],
   "source": [
    "import pandas as pd\n",
    "import os\n",
    "import numpy as np"
   ]
  },
  {
   "cell_type": "code",
   "execution_count": 2,
   "metadata": {},
   "outputs": [
    {
     "name": "stderr",
     "output_type": "stream",
     "text": [
      "/home/bilguun/.local/lib/python3.6/site-packages/numpy/lib/arraysetops.py:569: FutureWarning: elementwise comparison failed; returning scalar instead, but in the future will perform elementwise comparison\n",
      "  mask |= (ar1 == a)\n"
     ]
    }
   ],
   "source": [
    "real=pd.read_csv(\"../data/submission/test.csv\",index_col=0)"
   ]
  },
  {
   "cell_type": "code",
   "execution_count": 8,
   "metadata": {},
   "outputs": [],
   "source": [
    "pred=pd.read_csv(\"../submission/submission1 T 2020-03-24 22:55:30.823044\",index_col=0,header=None)"
   ]
  },
  {
   "cell_type": "code",
   "execution_count": 5,
   "metadata": {},
   "outputs": [],
   "source": [
    "r=real[\"TIMESTAMP\"]"
   ]
  },
  {
   "cell_type": "code",
   "execution_count": 10,
   "metadata": {},
   "outputs": [],
   "source": [
    "pred[\"real\"]=r"
   ]
  },
  {
   "cell_type": "code",
   "execution_count": 16,
   "metadata": {},
   "outputs": [],
   "source": [
    "pred.index.name=\"index\""
   ]
  },
  {
   "cell_type": "code",
   "execution_count": 18,
   "metadata": {},
   "outputs": [],
   "source": [
    "pred.columns=[\"TIMESTAMP\",\"real\"]"
   ]
  },
  {
   "cell_type": "code",
   "execution_count": 21,
   "metadata": {},
   "outputs": [],
   "source": [
    "pred[[\"TIMESTAMP\"]].to_csv(\"../submission/submission1 T 2020-03-24 22:55:30.823044\")"
   ]
  },
  {
   "cell_type": "code",
   "execution_count": 23,
   "metadata": {},
   "outputs": [
    {
     "data": {
      "text/plain": [
       "((1557464, 2), 1557464)"
      ]
     },
     "execution_count": 23,
     "metadata": {},
     "output_type": "execute_result"
    }
   ],
   "source": [
    "pred.shape,1557464"
   ]
  },
  {
   "cell_type": "code",
   "execution_count": 2,
   "metadata": {},
   "outputs": [
    {
     "name": "stdout",
     "output_type": "stream",
     "text": [
      "routes.csv\n"
     ]
    },
    {
     "ename": "TypeError",
     "evalue": "parser_f() got an unexpected keyword argument 'columns'",
     "output_type": "error",
     "traceback": [
      "\u001b[0;31m---------------------------------------------------------------------------\u001b[0m",
      "\u001b[0;31mTypeError\u001b[0m                                 Traceback (most recent call last)",
      "\u001b[0;32m<ipython-input-2-754cbf610c89>\u001b[0m in \u001b[0;36m<module>\u001b[0;34m\u001b[0m\n\u001b[1;32m      2\u001b[0m \u001b[0;32mfor\u001b[0m \u001b[0mfile\u001b[0m \u001b[0;32min\u001b[0m \u001b[0mos\u001b[0m\u001b[0;34m.\u001b[0m\u001b[0mlistdir\u001b[0m\u001b[0;34m(\u001b[0m\u001b[0;34m\"../data/main\"\u001b[0m\u001b[0;34m)\u001b[0m\u001b[0;34m:\u001b[0m\u001b[0;34m\u001b[0m\u001b[0;34m\u001b[0m\u001b[0m\n\u001b[1;32m      3\u001b[0m     \u001b[0mprint\u001b[0m\u001b[0;34m(\u001b[0m\u001b[0mfile\u001b[0m\u001b[0;34m)\u001b[0m\u001b[0;34m\u001b[0m\u001b[0;34m\u001b[0m\u001b[0m\n\u001b[0;32m----> 4\u001b[0;31m     \u001b[0mfiles\u001b[0m\u001b[0;34m[\u001b[0m\u001b[0mfile\u001b[0m\u001b[0;34m]\u001b[0m\u001b[0;34m=\u001b[0m\u001b[0mpd\u001b[0m\u001b[0;34m.\u001b[0m\u001b[0mread_csv\u001b[0m\u001b[0;34m(\u001b[0m\u001b[0;34m\"../data/main/\"\u001b[0m\u001b[0;34m+\u001b[0m\u001b[0mfile\u001b[0m\u001b[0;34m,\u001b[0m\u001b[0mcolumns\u001b[0m\u001b[0;34m=\u001b[0m\u001b[0;34m[\u001b[0m\u001b[0;34m\"TIMESTAMP\"\u001b[0m\u001b[0;34m]\u001b[0m\u001b[0;34m)\u001b[0m\u001b[0;34m\u001b[0m\u001b[0;34m\u001b[0m\u001b[0m\n\u001b[0m",
      "\u001b[0;31mTypeError\u001b[0m: parser_f() got an unexpected keyword argument 'columns'"
     ]
    }
   ],
   "source": [
    "files={}\n",
    "for file in os.listdir(\"../data/main\"):\n",
    "    print(file)\n",
    "    files[file]=pd.read_csv(\"../data/main/\"+file,columns=[\"TIMESTAMP\"])"
   ]
  },
  {
   "cell_type": "code",
   "execution_count": 2,
   "metadata": {},
   "outputs": [
    {
     "name": "stderr",
     "output_type": "stream",
     "text": [
      "/home/bilguun/.local/lib/python3.6/site-packages/numpy/lib/arraysetops.py:569: FutureWarning: elementwise comparison failed; returning scalar instead, but in the future will perform elementwise comparison\n",
      "  mask |= (ar1 == a)\n"
     ]
    }
   ],
   "source": [
    "data=pd.read_csv(\"../data/main/training.csv\",index_col=0).sort_values([\"BUS_ID\",\"TIMESTAMP\"])"
   ]
  },
  {
   "cell_type": "code",
   "execution_count": 2,
   "metadata": {},
   "outputs": [
    {
     "name": "stderr",
     "output_type": "stream",
     "text": [
      "/home/bilguun/.local/lib/python3.6/site-packages/numpy/lib/arraysetops.py:569: FutureWarning: elementwise comparison failed; returning scalar instead, but in the future will perform elementwise comparison\n",
      "  mask |= (ar1 == a)\n"
     ]
    }
   ],
   "source": [
    "test=pd.read_csv(\"../data/main/test.csv\",index_col=0)"
   ]
  },
  {
   "cell_type": "code",
   "execution_count": 6,
   "metadata": {
    "scrolled": true
   },
   "outputs": [],
   "source": [
    "#test data prep\n",
    "s=pd.DataFrame(test[\"TIMESTAMP\"])"
   ]
  },
  {
   "cell_type": "code",
   "execution_count": 9,
   "metadata": {},
   "outputs": [],
   "source": [
    "z=pd.isnull(s[\"TIMESTAMP\"]).cumsum()"
   ]
  },
  {
   "cell_type": "code",
   "execution_count": 11,
   "metadata": {},
   "outputs": [],
   "source": [
    "s[\"nullCount\"]=z"
   ]
  },
  {
   "cell_type": "code",
   "execution_count": 16,
   "metadata": {},
   "outputs": [],
   "source": [
    "s=s.dropna()"
   ]
  },
  {
   "cell_type": "code",
   "execution_count": 19,
   "metadata": {
    "scrolled": true
   },
   "outputs": [
    {
     "name": "stderr",
     "output_type": "stream",
     "text": [
      "/home/bilguun/.local/lib/python3.6/site-packages/ipykernel_launcher.py:1: SettingWithCopyWarning: \n",
      "A value is trying to be set on a copy of a slice from a DataFrame.\n",
      "Try using .loc[row_indexer,col_indexer] = value instead\n",
      "\n",
      "See the caveats in the documentation: http://pandas.pydata.org/pandas-docs/stable/indexing.html#indexing-view-versus-copy\n",
      "  \"\"\"Entry point for launching an IPython kernel.\n"
     ]
    }
   ],
   "source": [
    "s[\"TOTALDIFF\"]=s[\"TIMESTAMP\"].diff(1)"
   ]
  },
  {
   "cell_type": "code",
   "execution_count": 21,
   "metadata": {},
   "outputs": [
    {
     "name": "stderr",
     "output_type": "stream",
     "text": [
      "/home/bilguun/.local/lib/python3.6/site-packages/ipykernel_launcher.py:1: SettingWithCopyWarning: \n",
      "A value is trying to be set on a copy of a slice from a DataFrame.\n",
      "Try using .loc[row_indexer,col_indexer] = value instead\n",
      "\n",
      "See the caveats in the documentation: http://pandas.pydata.org/pandas-docs/stable/indexing.html#indexing-view-versus-copy\n",
      "  \"\"\"Entry point for launching an IPython kernel.\n"
     ]
    }
   ],
   "source": [
    "s[\"AVERAGEDIFF\"]=s[\"TOTALDIFF\"]/s[\"nullCount\"].diff(1)"
   ]
  },
  {
   "cell_type": "code",
   "execution_count": 25,
   "metadata": {},
   "outputs": [],
   "source": [
    "s=s[~s.isin([np.nan, np.inf, -np.inf]).any(1)].dropna()"
   ]
  },
  {
   "cell_type": "code",
   "execution_count": 27,
   "metadata": {},
   "outputs": [
    {
     "data": {
      "text/html": [
       "<div>\n",
       "<style scoped>\n",
       "    .dataframe tbody tr th:only-of-type {\n",
       "        vertical-align: middle;\n",
       "    }\n",
       "\n",
       "    .dataframe tbody tr th {\n",
       "        vertical-align: top;\n",
       "    }\n",
       "\n",
       "    .dataframe thead th {\n",
       "        text-align: right;\n",
       "    }\n",
       "</style>\n",
       "<table border=\"1\" class=\"dataframe\">\n",
       "  <thead>\n",
       "    <tr style=\"text-align: right;\">\n",
       "      <th></th>\n",
       "      <th>TIMESTAMP</th>\n",
       "      <th>nullCount</th>\n",
       "      <th>TOTALDIFF</th>\n",
       "      <th>AVERAGEDIFF</th>\n",
       "    </tr>\n",
       "  </thead>\n",
       "  <tbody>\n",
       "    <tr>\n",
       "      <th>count</th>\n",
       "      <td>2.505290e+05</td>\n",
       "      <td>2.505290e+05</td>\n",
       "      <td>250529.000000</td>\n",
       "      <td>250529.000000</td>\n",
       "    </tr>\n",
       "    <tr>\n",
       "      <th>mean</th>\n",
       "      <td>1.579773e+09</td>\n",
       "      <td>6.003438e+05</td>\n",
       "      <td>991.093618</td>\n",
       "      <td>243.971847</td>\n",
       "    </tr>\n",
       "    <tr>\n",
       "      <th>std</th>\n",
       "      <td>1.656566e+05</td>\n",
       "      <td>3.458694e+05</td>\n",
       "      <td>929.918564</td>\n",
       "      <td>179.546946</td>\n",
       "    </tr>\n",
       "    <tr>\n",
       "      <th>min</th>\n",
       "      <td>1.579501e+09</td>\n",
       "      <td>1.000000e+00</td>\n",
       "      <td>54.000000</td>\n",
       "      <td>43.250000</td>\n",
       "    </tr>\n",
       "    <tr>\n",
       "      <th>25%</th>\n",
       "      <td>1.579627e+09</td>\n",
       "      <td>3.015720e+05</td>\n",
       "      <td>364.000000</td>\n",
       "      <td>137.500000</td>\n",
       "    </tr>\n",
       "    <tr>\n",
       "      <th>50%</th>\n",
       "      <td>1.579777e+09</td>\n",
       "      <td>6.028920e+05</td>\n",
       "      <td>680.000000</td>\n",
       "      <td>194.000000</td>\n",
       "    </tr>\n",
       "    <tr>\n",
       "      <th>75%</th>\n",
       "      <td>1.579892e+09</td>\n",
       "      <td>9.030370e+05</td>\n",
       "      <td>1290.000000</td>\n",
       "      <td>287.000000</td>\n",
       "    </tr>\n",
       "    <tr>\n",
       "      <th>max</th>\n",
       "      <td>1.580081e+09</td>\n",
       "      <td>1.187687e+06</td>\n",
       "      <td>12323.000000</td>\n",
       "      <td>3483.000000</td>\n",
       "    </tr>\n",
       "  </tbody>\n",
       "</table>\n",
       "</div>"
      ],
      "text/plain": [
       "          TIMESTAMP     nullCount      TOTALDIFF    AVERAGEDIFF\n",
       "count  2.505290e+05  2.505290e+05  250529.000000  250529.000000\n",
       "mean   1.579773e+09  6.003438e+05     991.093618     243.971847\n",
       "std    1.656566e+05  3.458694e+05     929.918564     179.546946\n",
       "min    1.579501e+09  1.000000e+00      54.000000      43.250000\n",
       "25%    1.579627e+09  3.015720e+05     364.000000     137.500000\n",
       "50%    1.579777e+09  6.028920e+05     680.000000     194.000000\n",
       "75%    1.579892e+09  9.030370e+05    1290.000000     287.000000\n",
       "max    1.580081e+09  1.187687e+06   12323.000000    3483.000000"
      ]
     },
     "execution_count": 27,
     "metadata": {},
     "output_type": "execute_result"
    }
   ],
   "source": [
    "s.describe()"
   ]
  },
  {
   "cell_type": "code",
   "execution_count": 62,
   "metadata": {},
   "outputs": [],
   "source": [
    "d=diffz[tr[\"BUS_ID\"].diff(-1) == 0]"
   ]
  },
  {
   "cell_type": "code",
   "execution_count": 64,
   "metadata": {},
   "outputs": [
    {
     "data": {
      "text/plain": [
       "(3262, 6)"
      ]
     },
     "execution_count": 64,
     "metadata": {},
     "output_type": "execute_result"
    }
   ],
   "source": [
    "tr.loc[d.index].shape"
   ]
  },
  {
   "cell_type": "code",
   "execution_count": 4,
   "metadata": {},
   "outputs": [
    {
     "data": {
      "text/plain": [
       "array([11100010, 11100510, 11100420, 11100690, 11100182, 11100060,\n",
       "       11100281, 11100270, 11100360, 11100450, 11100020, 11100470,\n",
       "       11100090, 11100570, 11100612, 11400060, 11100140, 11400070,\n",
       "       11100150, 11200020, 11100040, 11100290, 11100250, 11100620,\n",
       "       11100340, 11100300, 11100640, 11100550, 11100172, 11100440,\n",
       "       11400020, 11100171, 11100030, 11100202, 11400100, 11100530,\n",
       "       11100212, 11100540, 11400056, 11100280, 11100240, 11100710,\n",
       "       11400031, 11100201, 11100192, 11100050, 11100400, 11100194,\n",
       "       11100520, 11100100, 11100223, 11400010, 11100720, 11400112,\n",
       "       11400120, 11400090, 11100122, 11100600, 11400130, 11100390,\n",
       "       11100410, 11100160, 11100650, 11100330, 11100310, 11100590,\n",
       "       11100070, 11100460, 11100490, 11400040, 11100350, 11100191,\n",
       "       11100730, 11100402, 11400080, 11100130, 11100580, 11100110,\n",
       "       11100560, 11100430, 11100293, 11100320, 11100230, 11100500,\n",
       "       11100630, 11100380, 11400110, 11100211, 11100181, 11100660,\n",
       "       11100080, 11100631, 11200040, 11100700, 11100260, 11100581,\n",
       "       11200050, 11100306, 11100304, 11100241, 11100301, 11100480,\n",
       "       11100220, 11100370, 11400050, 11100680, 11100670, 11100303])"
      ]
     },
     "execution_count": 4,
     "metadata": {},
     "output_type": "execute_result"
    }
   ],
   "source": [
    "data[\"BUSROUTE_ID\"].unique()"
   ]
  },
  {
   "cell_type": "code",
   "execution_count": 7,
   "metadata": {
    "scrolled": true
   },
   "outputs": [],
   "source": [
    "tr=[]\n",
    "ev=[]\n",
    "te=[]\n",
    "for busid in data[\"BUSROUTE_ID\"].unique():\n",
    "    la=data[data[\"BUSROUTE_ID\"]==busid]\n",
    "    tr.append(la.iloc[:int(0.8*len(la))])\n",
    "    ev.append(la.iloc[int(0.8*len(la)):])\n",
    "    te.append(test[test[\"BUSROUTE_ID\"]==busid])"
   ]
  },
  {
   "cell_type": "code",
   "execution_count": 8,
   "metadata": {},
   "outputs": [],
   "source": [
    "#os.mkdir(\"../data/full\")\n",
    "pd.concat(tr).to_csv(\"../data/full/train.csv\")\n",
    "pd.concat(ev).to_csv(\"../data/full/eval.csv\")\n",
    "pd.concat(te).to_csv(\"../data/full/test.csv\")"
   ]
  },
  {
   "cell_type": "code",
   "execution_count": 6,
   "metadata": {},
   "outputs": [],
   "source": [
    "#os.mkdir(\"../data/submission\")\n",
    "data.to_csv(\"../data/submission/train.csv\")\n",
    "test.to_csv(\"../data/submission/test.csv\")"
   ]
  },
  {
   "cell_type": "code",
   "execution_count": 67,
   "metadata": {
    "scrolled": true
   },
   "outputs": [],
   "source": [
    "a=pd.Series([1,2,3,4,5],index=[1,2,3,4,5])\n",
    "b=pd.Series([1,2,3,4],index=[3,4,5,6])"
   ]
  },
  {
   "cell_type": "code",
   "execution_count": 68,
   "metadata": {},
   "outputs": [
    {
     "data": {
      "text/plain": [
       "1    NaN\n",
       "2    NaN\n",
       "3    2.0\n",
       "4    2.0\n",
       "5    2.0\n",
       "6    NaN\n",
       "dtype: float64"
      ]
     },
     "execution_count": 68,
     "metadata": {},
     "output_type": "execute_result"
    }
   ],
   "source": [
    "a-b"
   ]
  },
  {
   "cell_type": "code",
   "execution_count": 16,
   "metadata": {},
   "outputs": [
    {
     "data": {
      "text/plain": [
       "array([     2053,      2058,      2061, ..., 983516012, 983606001,\n",
       "       985606003])"
      ]
     },
     "execution_count": 16,
     "metadata": {},
     "output_type": "execute_result"
    }
   ],
   "source": [
    "data[\"BUS_ID\"].unique()"
   ]
  },
  {
   "cell_type": "code",
   "execution_count": 17,
   "metadata": {},
   "outputs": [
    {
     "name": "stdout",
     "output_type": "stream",
     "text": [
      "ARDRegression\n",
      "AdaBoostRegressor\n",
      "BaggingRegressor\n",
      "BayesianRidge\n",
      "CCA\n",
      "DecisionTreeRegressor\n",
      "ElasticNet\n",
      "ElasticNetCV\n",
      "ExtraTreeRegressor\n",
      "ExtraTreesRegressor\n",
      "GaussianProcessRegressor\n",
      "GradientBoostingRegressor\n",
      "HuberRegressor\n",
      "KNeighborsRegressor\n",
      "KernelRidge\n",
      "Lars\n",
      "LarsCV\n",
      "Lasso\n",
      "LassoCV\n",
      "LassoLars\n",
      "LassoLarsCV\n",
      "LassoLarsIC\n",
      "LinearRegression\n",
      "LinearSVR\n",
      "MLPRegressor\n",
      "MultiTaskElasticNet\n",
      "MultiTaskElasticNetCV\n",
      "MultiTaskLasso\n",
      "MultiTaskLassoCV\n",
      "NuSVR\n",
      "OrthogonalMatchingPursuit\n",
      "OrthogonalMatchingPursuitCV\n",
      "PLSCanonical\n",
      "PLSRegression\n",
      "PassiveAggressiveRegressor\n",
      "RANSACRegressor\n",
      "RadiusNeighborsRegressor\n",
      "RandomForestRegressor\n",
      "Ridge\n",
      "RidgeCV\n",
      "SGDRegressor\n",
      "SVR\n",
      "TheilSenRegressor\n",
      "TransformedTargetRegressor\n"
     ]
    }
   ],
   "source": [
    "from sklearn.utils.testing import all_estimators\n",
    "from sklearn import base\n",
    "\n",
    "estimators = all_estimators()\n",
    "\n",
    "for name, class_ in estimators:\n",
    "    if issubclass(class_, base.RegressorMixin):\n",
    "        print(name)"
   ]
  },
  {
   "cell_type": "code",
   "execution_count": 15,
   "metadata": {
    "scrolled": true
   },
   "outputs": [
    {
     "name": "stdout",
     "output_type": "stream",
     "text": [
      "Collecting pytest\n",
      "  Downloading https://files.pythonhosted.org/packages/c7/e2/c19c667f42f72716a7d03e8dd4d6f63f47d39feadd44cc1ee7ca3089862c/pytest-5.4.1-py3-none-any.whl (246kB)\n",
      "\u001b[K    100% |████████████████████████████████| 256kB 203kB/s ta 0:00:01\n",
      "\u001b[?25hCollecting more-itertools>=4.0.0 (from pytest)\n",
      "  Downloading https://files.pythonhosted.org/packages/72/96/4297306cc270eef1e3461da034a3bebe7c84eff052326b130824e98fc3fb/more_itertools-8.2.0-py3-none-any.whl (43kB)\n",
      "\u001b[K    100% |████████████████████████████████| 51kB 1.1MB/s ta 0:00:011\n",
      "\u001b[?25hCollecting wcwidth (from pytest)\n",
      "  Downloading https://files.pythonhosted.org/packages/58/b4/4850a0ccc6f567cc0ebe7060d20ffd4258b8210efadc259da62dc6ed9c65/wcwidth-0.1.8-py2.py3-none-any.whl\n",
      "Collecting packaging (from pytest)\n",
      "  Downloading https://files.pythonhosted.org/packages/62/0a/34641d2bf5c917c96db0ded85ae4da25b6cd922d6b794648d4e7e07c88e5/packaging-20.3-py2.py3-none-any.whl\n",
      "Collecting attrs>=17.4.0 (from pytest)\n",
      "  Using cached https://files.pythonhosted.org/packages/a2/db/4313ab3be961f7a763066401fb77f7748373b6094076ae2bda2806988af6/attrs-19.3.0-py2.py3-none-any.whl\n",
      "Collecting importlib-metadata>=0.12; python_version < \"3.8\" (from pytest)\n",
      "  Downloading https://files.pythonhosted.org/packages/8b/03/a00d504808808912751e64ccf414be53c29cad620e3de2421135fcae3025/importlib_metadata-1.5.0-py2.py3-none-any.whl\n",
      "Collecting py>=1.5.0 (from pytest)\n",
      "  Downloading https://files.pythonhosted.org/packages/99/8d/21e1767c009211a62a8e3067280bfce76e89c9f876180308515942304d2d/py-1.8.1-py2.py3-none-any.whl (83kB)\n",
      "\u001b[K    100% |████████████████████████████████| 92kB 1.2MB/s ta 0:00:011\n",
      "\u001b[?25hCollecting pluggy<1.0,>=0.12 (from pytest)\n",
      "  Downloading https://files.pythonhosted.org/packages/a0/28/85c7aa31b80d150b772fbe4a229487bc6644da9ccb7e427dd8cc60cb8a62/pluggy-0.13.1-py2.py3-none-any.whl\n",
      "Collecting six (from packaging->pytest)\n",
      "  Downloading https://files.pythonhosted.org/packages/65/eb/1f97cb97bfc2390a276969c6fae16075da282f5058082d4cb10c6c5c1dba/six-1.14.0-py2.py3-none-any.whl\n",
      "Collecting pyparsing>=2.0.2 (from packaging->pytest)\n",
      "  Downloading https://files.pythonhosted.org/packages/5d/bc/1e58593167fade7b544bfe9502a26dc860940a79ab306e651e7f13be68c2/pyparsing-2.4.6-py2.py3-none-any.whl (67kB)\n",
      "\u001b[K    100% |████████████████████████████████| 71kB 1.5MB/s ta 0:00:011\n",
      "\u001b[?25hCollecting zipp>=0.5 (from importlib-metadata>=0.12; python_version < \"3.8\"->pytest)\n",
      "  Downloading https://files.pythonhosted.org/packages/b2/34/bfcb43cc0ba81f527bc4f40ef41ba2ff4080e047acb0586b56b3d017ace4/zipp-3.1.0-py3-none-any.whl\n",
      "Installing collected packages: more-itertools, wcwidth, six, pyparsing, packaging, attrs, zipp, importlib-metadata, py, pluggy, pytest\n",
      "Successfully installed attrs-19.3.0 importlib-metadata-1.5.0 more-itertools-8.2.0 packaging-20.3 pluggy-0.13.1 py-1.8.1 pyparsing-2.4.6 pytest-5.4.1 six-1.14.0 wcwidth-0.1.8 zipp-3.1.0\n"
     ]
    }
   ],
   "source": [
    "!pip3 install pytest"
   ]
  },
  {
   "cell_type": "code",
   "execution_count": 20,
   "metadata": {},
   "outputs": [],
   "source": [
    "a=pd.DataFrame({\"a\":[1,2,3],\"b\":[2,3,4]})\n",
    "b=pd.DataFrame({\"a\":[1,2,3],\"b\":[2,3,4]})"
   ]
  },
  {
   "cell_type": "code",
   "execution_count": 23,
   "metadata": {},
   "outputs": [
    {
     "data": {
      "text/html": [
       "<div>\n",
       "<style scoped>\n",
       "    .dataframe tbody tr th:only-of-type {\n",
       "        vertical-align: middle;\n",
       "    }\n",
       "\n",
       "    .dataframe tbody tr th {\n",
       "        vertical-align: top;\n",
       "    }\n",
       "\n",
       "    .dataframe thead th {\n",
       "        text-align: right;\n",
       "    }\n",
       "</style>\n",
       "<table border=\"1\" class=\"dataframe\">\n",
       "  <thead>\n",
       "    <tr style=\"text-align: right;\">\n",
       "      <th></th>\n",
       "      <th>a</th>\n",
       "      <th>b</th>\n",
       "      <th>a</th>\n",
       "      <th>b</th>\n",
       "    </tr>\n",
       "  </thead>\n",
       "  <tbody>\n",
       "    <tr>\n",
       "      <th>0</th>\n",
       "      <td>1</td>\n",
       "      <td>2</td>\n",
       "      <td>1</td>\n",
       "      <td>2</td>\n",
       "    </tr>\n",
       "    <tr>\n",
       "      <th>1</th>\n",
       "      <td>2</td>\n",
       "      <td>3</td>\n",
       "      <td>2</td>\n",
       "      <td>3</td>\n",
       "    </tr>\n",
       "    <tr>\n",
       "      <th>2</th>\n",
       "      <td>3</td>\n",
       "      <td>4</td>\n",
       "      <td>3</td>\n",
       "      <td>4</td>\n",
       "    </tr>\n",
       "  </tbody>\n",
       "</table>\n",
       "</div>"
      ],
      "text/plain": [
       "   a  b  a  b\n",
       "0  1  2  1  2\n",
       "1  2  3  2  3\n",
       "2  3  4  3  4"
      ]
     },
     "execution_count": 23,
     "metadata": {},
     "output_type": "execute_result"
    }
   ],
   "source": [
    "pd.concat([a,b],axis=1)"
   ]
  },
  {
   "cell_type": "code",
   "execution_count": 72,
   "metadata": {},
   "outputs": [],
   "source": [
    "miss_val=test[\"TIMESTAMP\"].isnull()+0"
   ]
  },
  {
   "cell_type": "code",
   "execution_count": 73,
   "metadata": {},
   "outputs": [
    {
     "data": {
      "text/plain": [
       "count    1.557464e+06\n",
       "mean     7.625775e-01\n",
       "std      4.255034e-01\n",
       "min      0.000000e+00\n",
       "25%      1.000000e+00\n",
       "50%      1.000000e+00\n",
       "75%      1.000000e+00\n",
       "max      1.000000e+00\n",
       "Name: TIMESTAMP, dtype: float64"
      ]
     },
     "execution_count": 73,
     "metadata": {},
     "output_type": "execute_result"
    }
   ],
   "source": [
    "miss_val.describe()"
   ]
  },
  {
   "cell_type": "code",
   "execution_count": 84,
   "metadata": {},
   "outputs": [
    {
     "data": {
      "text/plain": [
       "array([0, 1, 0, ..., 1, 1, 0])"
      ]
     },
     "execution_count": 84,
     "metadata": {},
     "output_type": "execute_result"
    }
   ],
   "source": [
    "miss_val.values"
   ]
  },
  {
   "cell_type": "code",
   "execution_count": 95,
   "metadata": {},
   "outputs": [],
   "source": [
    "x=data[\"TIMESTAMP\"][:100]"
   ]
  },
  {
   "cell_type": "code",
   "execution_count": 93,
   "metadata": {},
   "outputs": [],
   "source": [
    "x.iloc[np.where(miss_val.values[:100])]=np.nan"
   ]
  },
  {
   "cell_type": "code",
   "execution_count": 98,
   "metadata": {},
   "outputs": [
    {
     "name": "stdout",
     "output_type": "stream",
     "text": [
      "173467 1578330214\n",
      "1624542 1578900505\n",
      "1625151 1578900622\n",
      "1625791 1578900745\n",
      "1626425 1578900866\n",
      "1627161 1578901002\n",
      "1628090 1578901176\n",
      "1628653 1578901282\n",
      "1629874 1578901506\n",
      "1630675 1578901650\n",
      "1631768 1578901849\n",
      "1632383 1578901968\n",
      "1633977 1578902262\n",
      "1635040 1578902457\n",
      "1635362 1578902512\n",
      "1636166 1578902659\n",
      "1637354 1578902873\n",
      "1638013 1578902991\n",
      "1638414 1578903064\n",
      "1638825 1578903142\n",
      "1639611 1578903288\n",
      "1640478 1578903448\n",
      "1903298 1578994153\n",
      "2135720 1579074723\n",
      "1888458 1578991454\n",
      "1888579 1578991476\n",
      "1888971 1578991553\n",
      "1889483 1578991652\n",
      "1892099 1578992125\n",
      "1892597 1578992217\n",
      "1893899 1578992447\n",
      "1894673 1578992581\n",
      "1895247 1578992685\n",
      "1896626 1578992933\n",
      "1897036 1578993009\n",
      "2816644 1579279101\n",
      "2817356 1579279253\n",
      "2818801 1579279560\n",
      "2820010 1579279832\n",
      "159011 1578326805\n",
      "159502 1578326925\n",
      "160153 1578327071\n",
      "160665 1578327195\n",
      "161461 1578327374\n",
      "162335 1578327591\n",
      "165757 1578328406\n",
      "166458 1578328579\n",
      "169182 1578329213\n",
      "169958 1578329396\n",
      "170347 1578329491\n",
      "171025 1578329651\n",
      "171607 1578329783\n",
      "171985 1578329874\n",
      "172424 1578329976\n",
      "172945 1578330092\n",
      "173539 1578330229\n",
      "174073 1578330348\n",
      "174334 1578330411\n",
      "174952 1578330547\n",
      "175764 1578330731\n",
      "176952 1578331002\n",
      "177917 1578331228\n",
      "180667 1578331852\n",
      "181361 1578332018\n",
      "183883 1578332626\n",
      "184312 1578332731\n",
      "184728 1578332838\n",
      "185577 1578333054\n",
      "186173 1578333209\n",
      "186993 1578333416\n",
      "187453 1578333528\n",
      "187752 1578333604\n",
      "188209 1578333719\n",
      "188713 1578333842\n",
      "191620 1578334637\n",
      "1634434 1578902343\n",
      "1635048 1578902459\n",
      "1635494 1578902534\n",
      "1636257 1578902674\n",
      "1637431 1578902886\n",
      "1638361 1578903054\n",
      "1638754 1578903129\n",
      "1640472 1578903446\n",
      "1640936 1578903537\n",
      "1642191 1578903772\n",
      "1642534 1578903838\n",
      "1643055 1578903938\n",
      "1644280 1578904174\n",
      "1644765 1578904264\n",
      "1645683 1578904445\n",
      "1646254 1578904553\n",
      "1646671 1578904629\n",
      "1647077 1578904709\n",
      "1647713 1578904832\n",
      "1649145 1578905107\n",
      "1650243 1578905316\n",
      "1650715 1578905407\n",
      "1651487 1578905559\n",
      "1652412 1578905744\n",
      "1653085 1578905874\n"
     ]
    }
   ],
   "source": [
    "for i, v in x.iteritems():\n",
    "    print(i,v)"
   ]
  },
  {
   "cell_type": "code",
   "execution_count": null,
   "metadata": {},
   "outputs": [],
   "source": []
  }
 ],
 "metadata": {
  "kernelspec": {
   "display_name": "Python 3",
   "language": "python",
   "name": "python3"
  },
  "language_info": {
   "codemirror_mode": {
    "name": "ipython",
    "version": 3
   },
   "file_extension": ".py",
   "mimetype": "text/x-python",
   "name": "python",
   "nbconvert_exporter": "python",
   "pygments_lexer": "ipython3",
   "version": "3.6.8"
  }
 },
 "nbformat": 4,
 "nbformat_minor": 2
}
